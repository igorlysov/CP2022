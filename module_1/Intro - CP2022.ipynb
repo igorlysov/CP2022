{
 "cells": [
  {
   "cell_type": "markdown",
   "id": "37e8f953",
   "metadata": {
    "pycharm": {
     "name": "#%% md\n"
    }
   },
   "source": [
    "# Компьютерный практикум 2022-2023"
   ]
  },
  {
   "cell_type": "markdown",
   "id": "4892c7e1",
   "metadata": {
    "pycharm": {
     "name": "#%% md\n"
    }
   },
   "source": [
    "## Семинар 1. Python для эффективных вычислений\n",
    "\n",
    "- Python - дирижер компилированного кода\n",
    "\n",
    "- Средства разработки: `PyCharm`, `Jupyter Notebook` / `Jupyter Lab`\n",
    "\n",
    "- Как создать быстрый код для решения задачи?\n",
    "\n",
    "- Массивы: `Numpy`\n",
    "    \n",
    "- Компиляция: `Numba`, `Cython`, `F2PY`, `C API`\n",
    "    \n",
    "- Измерение времени выполнения `timeit`\n",
    "    \n",
    "- Распараллеливание на одной машине: `Numba`, `joblib`, `dask`, `CuPy`\n",
    "    \n",
    "- Progress bar (контроль за ходом вычислений): `tqdm`\n",
    "\n",
    "- Визуализация: `matplotlib`\n",
    "\n",
    "- Численные методы `Scipy`\n",
    "\n",
    "- Символьные вычисления `Sympy`\n"
   ]
  },
  {
   "cell_type": "markdown",
   "id": "35b40103",
   "metadata": {
    "pycharm": {
     "name": "#%% md\n"
    }
   },
   "source": [
    "## Оценивание\n",
    "\n",
    "- Итоговая оценка за курс выставляется по накопленной\n",
    "\n",
    "\n",
    "- Накопленная формируется из оценок за домашние задания $ДЗ_i$\n",
    "\n",
    "\n",
    "- Всего $4$ домашних задания, по одному в модуль\n",
    "\n",
    "\n",
    "- В домашние задания входит $2, 3, 2, 2$ задачи (возможны изменения)\n",
    "\n",
    "\n",
    "- **Важно! Задачи сложные и содержат большой объем расчетов!**\n",
    "\n",
    "\n",
    "- Накопленная оценка $НО = 0.13 \\cdot ДЗ_1 + 0.29 \\cdot ДЗ_2 + 0.29 \\cdot ДЗ_3 + 0.29 \\cdot ДЗ_4$\n",
    "\n",
    "\n",
    "- $ДЗ_i$ вычисляется для каждого задания по формулам, указанным в задании, по 100-балльной системе\n",
    "\n",
    "\n",
    "- $НО = 100$ эквивалентна итоговым $8.49$ баллам (по 10-балльной системе)\n",
    "\n",
    "\n",
    "- округление - арифметическое: $7.50 \\rightarrow 8.0$, $7.49 \\rightarrow 7.0$\n",
    "\n",
    "\n",
    "- $9$ и $10$ итоговых баллов можно получить за *исключительные заслуги*\n",
    "    - исключительные заслуги оговариваются индивидуально\n",
    "\n",
    "\n",
    "- **Внимание! Возможность переписать работу не предусмотрена**\n",
    "\n"
   ]
  },
  {
   "cell_type": "markdown",
   "id": "5b765f93",
   "metadata": {
    "pycharm": {
     "name": "#%% md\n"
    }
   },
   "source": [
    "## Список тем (возможны изменения)\n",
    "\n",
    "- Введение\n",
    "- `Numba` - трансляция и компиляция кода\n",
    "- `Numpy` - массивы и вычисления\n",
    "- Перенос тепла\n",
    "- Прокрустово преобразование, преобразование фурье\n",
    "- `VisPy` - визуализация на основе `OpenGL`\n",
    "- `Boids` - взаимодействие независимых агентов\n",
    "- `Shaders`, `SDF` - двумерная графика, функция расстояния до объекта со знаком\n",
    "- `Taichi` - библиотека для трансляции и компиляции кода на CPU/GPU\n",
    "- `Ray marching` - трехмерная графика\n",
    "- `Diagnosis` - задача о постановке диагноза\n",
    "- `Runge-Kutta`, `orbits` - интегрирование СОДУ, орбиты\n",
    "- `SPICE`, карты видимости\n"
   ]
  },
  {
   "cell_type": "markdown",
   "id": "c6158d46",
   "metadata": {
    "pycharm": {
     "name": "#%% md\n"
    }
   },
   "source": [
    "#### Установка модулей"
   ]
  },
  {
   "cell_type": "code",
   "execution_count": 1,
   "id": "0de2ed52",
   "metadata": {
    "pycharm": {
     "name": "#%%\n"
    }
   },
   "outputs": [
    {
     "name": "stdout",
     "output_type": "stream",
     "text": [
      "Requirement already satisfied: numpy in c:\\users\\stasb\\pycharmprojects\\cp2022\\venv\\lib\\site-packages (1.22.4)\n",
      "Requirement already satisfied: scipy in c:\\users\\stasb\\pycharmprojects\\cp2022\\venv\\lib\\site-packages (1.9.1)\n",
      "Requirement already satisfied: matplotlib in c:\\users\\stasb\\pycharmprojects\\cp2022\\venv\\lib\\site-packages (3.5.3)\n",
      "Requirement already satisfied: numba in c:\\users\\stasb\\pycharmprojects\\cp2022\\venv\\lib\\site-packages (0.56.0)\n",
      "Requirement already satisfied: sympy in c:\\users\\stasb\\pycharmprojects\\cp2022\\venv\\lib\\site-packages (1.11.1)\n",
      "Requirement already satisfied: joblib in c:\\users\\stasb\\pycharmprojects\\cp2022\\venv\\lib\\site-packages (1.1.0)\n",
      "Requirement already satisfied: tqdm in c:\\users\\stasb\\pycharmprojects\\cp2022\\venv\\lib\\site-packages (4.64.0)\n",
      "Requirement already satisfied: pillow>=6.2.0 in c:\\users\\stasb\\pycharmprojects\\cp2022\\venv\\lib\\site-packages (from matplotlib) (9.2.0)\n",
      "Requirement already satisfied: python-dateutil>=2.7 in c:\\users\\stasb\\pycharmprojects\\cp2022\\venv\\lib\\site-packages (from matplotlib) (2.8.2)\n",
      "Requirement already satisfied: fonttools>=4.22.0 in c:\\users\\stasb\\pycharmprojects\\cp2022\\venv\\lib\\site-packages (from matplotlib) (4.37.1)\n",
      "Requirement already satisfied: pyparsing>=2.2.1 in c:\\users\\stasb\\pycharmprojects\\cp2022\\venv\\lib\\site-packages (from matplotlib) (3.0.9)\n",
      "Requirement already satisfied: kiwisolver>=1.0.1 in c:\\users\\stasb\\pycharmprojects\\cp2022\\venv\\lib\\site-packages (from matplotlib) (1.4.4)\n",
      "Requirement already satisfied: packaging>=20.0 in c:\\users\\stasb\\pycharmprojects\\cp2022\\venv\\lib\\site-packages (from matplotlib) (21.3)\n",
      "Requirement already satisfied: cycler>=0.10 in c:\\users\\stasb\\pycharmprojects\\cp2022\\venv\\lib\\site-packages (from matplotlib) (0.11.0)\n",
      "Requirement already satisfied: setuptools in c:\\users\\stasb\\pycharmprojects\\cp2022\\venv\\lib\\site-packages (from numba) (60.2.0)\n",
      "Requirement already satisfied: llvmlite<0.40,>=0.39.0dev0 in c:\\users\\stasb\\pycharmprojects\\cp2022\\venv\\lib\\site-packages (from numba) (0.39.0)\n",
      "Requirement already satisfied: mpmath>=0.19 in c:\\users\\stasb\\pycharmprojects\\cp2022\\venv\\lib\\site-packages (from sympy) (1.2.1)\n",
      "Requirement already satisfied: colorama in c:\\users\\stasb\\pycharmprojects\\cp2022\\venv\\lib\\site-packages (from tqdm) (0.4.5)\n",
      "Requirement already satisfied: six>=1.5 in c:\\users\\stasb\\pycharmprojects\\cp2022\\venv\\lib\\site-packages (from python-dateutil>=2.7->matplotlib) (1.16.0)\n"
     ]
    },
    {
     "name": "stderr",
     "output_type": "stream",
     "text": [
      "WARNING: You are using pip version 21.3.1; however, version 22.2.2 is available.\n",
      "You should consider upgrading via the 'C:\\Users\\stasb\\PycharmProjects\\CP2022\\venv\\Scripts\\python.exe -m pip install --upgrade pip' command.\n"
     ]
    }
   ],
   "source": [
    "!pip install numpy scipy matplotlib numba sympy joblib tqdm"
   ]
  },
  {
   "cell_type": "markdown",
   "id": "528cfea5",
   "metadata": {
    "pycharm": {
     "name": "#%% md\n"
    }
   },
   "source": [
    "### Python - дирижер компилированного кода\n",
    "\n",
    "Давайте взглянем на репозитории таких мощных модулей как:\n",
    "- [Numpy](https://github.com/numpy/numpy)\n",
    "- [Scipy](https://github.com/scipy/scipy)\n",
    "- [Tensorfow](https://github.com/tensorflow/tensorflow)\n",
    "\n",
    "В каждом из них заметная часть кода написана не на `Python`, а на `C`, `C++`, `Fortran`, `Cython` и/или использует такие мощные математические библиотеки как [`MKL`](https://en.wikipedia.org/wiki/Math_Kernel_Library).\n",
    "\n",
    "Б$\\acute{о}$льшая часть вычислений выполняется благодаря компилированному коду.\n",
    "\n",
    "Как правило, код `Python` в этих библиотеках нужен для гибкости, удобства и красоты, т.е. для той самой `магии`, благодаря которой многие любят и используют `Python`.\n",
    "\n",
    "*Схема работы инженера с такими модулями*:\n",
    "\n",
    "Инженер $\\rightarrow$ классный и удобный код `Python` $\\rightarrow$ тяжелая жизнь разработчиков библиотек $\\rightarrow$ компилированный код, правильно настроенный под задачу инженера $\\rightarrow$ быстрый расчет $\\rightarrow$ красивый результат в среде `Python` $\\rightarrow$ довольный инженер"
   ]
  },
  {
   "cell_type": "markdown",
   "id": "f6ed29a6",
   "metadata": {
    "pycharm": {
     "name": "#%% md\n"
    }
   },
   "source": [
    "### Пример"
   ]
  },
  {
   "cell_type": "code",
   "execution_count": 2,
   "id": "27c01abe",
   "metadata": {
    "pycharm": {
     "name": "#%%\n"
    }
   },
   "outputs": [
    {
     "data": {
      "text/plain": [
       "      fun: -23.24167623804531\n",
       " hess_inv: array([[0.0502478]])\n",
       "      jac: array([0.])\n",
       "  message: 'Optimization terminated successfully.'\n",
       "     nfev: 12\n",
       "      nit: 4\n",
       "     njev: 6\n",
       "   status: 0\n",
       "  success: True\n",
       "        x: array([-1.67096375])"
      ]
     },
     "execution_count": 2,
     "metadata": {},
     "output_type": "execute_result"
    }
   ],
   "source": [
    "from scipy import optimize\n",
    "import numpy as np\n",
    "\n",
    "def function(x):\n",
    "       return x*2 + 20 * np.sin(x)\n",
    "\n",
    "r = optimize.minimize(function, 0, method='BFGS') \n",
    "r"
   ]
  },
  {
   "cell_type": "code",
   "execution_count": 3,
   "id": "687cec35",
   "metadata": {
    "pycharm": {
     "name": "#%%\n"
    }
   },
   "outputs": [
    {
     "data": {
      "image/png": "[encoded data removed]",
      "text/plain": [
       "<Figure size 640x480 with 1 Axes>"
      ]
     },
     "metadata": {},
     "output_type": "display_data"
    }
   ],
   "source": [
    "import matplotlib.pyplot as plt\n",
    "x = np.linspace(-np.pi, np.pi)\n",
    "plt.plot(x, function(x))\n",
    "plt.plot(r.x, r.fun, '.', ms=10)\n",
    "plt.show()\n",
    "#use BFGS algorithm for optimization"
   ]
  },
  {
   "cell_type": "markdown",
   "id": "34d44b70",
   "metadata": {
    "pycharm": {
     "name": "#%% md\n"
    }
   },
   "source": [
    "### Средства разработки\n",
    "\n",
    "- [`PyCharm`](https://www.jetbrains.com/community/education/#students) - мощная IDE, в которой есть практически всё, что нужно для разработки; для студентов доступна `Pro` версия бесплатно\n",
    "\n",
    "- [`Jupyter Notebook`](https://jupyter.org/) - удобная среда для работы с данными, интерактивной работы с кодом, хранения описания, кода и результатов в едином формате\n",
    "\n",
    "- [`Google Colab`](https://colab.research.google.com) - `Jupyter Notebook` в облаке с доступом к `GPU/TPU`; позволяет запускать код в облаке и не нагружать свой компьютер, но есть ограничения\n"
   ]
  },
  {
   "cell_type": "markdown",
   "id": "66b1dd00",
   "metadata": {
    "pycharm": {
     "name": "#%% md\n"
    }
   },
   "source": [
    "### Как создать быстрый код для решения задачи?\n",
    "\n",
    "Постепенное приближение к результату:\n",
    "\n",
    "\n",
    "1. этап - **прототип**\n",
    "    1. прототип на `Python` (одна или несколько функций)\n",
    "    2. проверка корректности результатов расчетов на уменьшенной задаче (~ 1 минуты)\n",
    "\n",
    "\n",
    "2. этап - **последовательный компилированный код**\n",
    "    1. модификация или переписывание кода прототипа для компиляции\n",
    "    2. компиляция кода, основанного на прототипе\n",
    "    3. проверка корректности результатов расчетов на уменьшенной задаче (~ 1 минуты работы прототипа)\n",
    "    4. измерение времени работы компилированного кода - нужно ли еще ускорять?\n",
    "    5. обнаружение медленных мест и их устранение\n",
    "\n",
    "\n",
    "3. этап - **распараллеливание** (опциональный)\n",
    "    1. распараллеливание\n",
    "    2. сравнение результатов расчетов с последовательной версией или прототипом (~ 1 минуты работы последовательной версии или прототипа)\n",
    "\n",
    "\n",
    "4. этап - **предаврительные расчеты**\n",
    "    1. выполнение небольшой части расчетов (~5-10%)\n",
    "    2. контроль корректности результатов\n",
    "    3. модификация кода, позволяющая сохранять промежуточные результаты\n",
    "\n",
    "\n",
    "5. этап - **расчеты**\n",
    "    1. запуск вычислений в полном объёме\n",
    "    2. контроль корректности результатов\n",
    "    3. визуализация результатов"
   ]
  },
  {
   "cell_type": "markdown",
   "id": "394c43de",
   "metadata": {
    "pycharm": {
     "name": "#%% md\n"
    }
   },
   "source": [
    "### Массивы Numpy\n",
    "\n",
    "Модуль `Numpy` позволяет эффективно работать с n-мерными массивами. Массивы `Numpy` организованы также, как и массивы в языке `C` и позволяют также быстро работать с ними.\n",
    "\n",
    "В `Numpy` реализовано:\n",
    "- создание и преобразование n-мерных массивов\n",
    "- множество типов элементов, например, `int8`, `uint64`, `float64` и др.\n",
    "- выбор элементов, срезы, маски\n",
    "- арифметические операции\n",
    "- агрегирующие операции\n",
    "- броадкастинг\n",
    "- сохранение/загрузка массивов в текстовом/бинарном формате\n",
    "- линейная алгебра\n",
    "- преобразование Фурье\n",
    "- и др."
   ]
  },
  {
   "cell_type": "markdown",
   "id": "da8f92a3",
   "metadata": {
    "pycharm": {
     "name": "#%% md\n"
    }
   },
   "source": [
    "### Пример"
   ]
  },
  {
   "cell_type": "markdown",
   "id": "73ba4bef",
   "metadata": {
    "pycharm": {
     "name": "#%% md\n"
    }
   },
   "source": [
    "[`Game of Life`](https://github.com/rougier/numpy-tutorial)\n",
    "\n",
    "The Game of Life, also known simply as Life, is a cellular automaton devised by the British mathematician John Horton Conway in 1970. It is the best-known example of a cellular automaton. The \"game\" is actually a zero-player game, meaning that its evolution is determined by its initial state, needing no input from human players. One interacts with the Game of Life by creating an initial configuration and observing how it evolves.\n",
    "\n",
    "The universe of the Game of Life is an infinite two-dimensional orthogonal grid of square cells, each of which is in one of two possible states, live or dead. Every cell interacts with its eight neighbours, which are the cells that are directly horizontally, vertically, or diagonally adjacent. At each step in time, the following transitions occur:\n",
    "\n",
    "- Any live cell with fewer than two live neighbours dies, as if by needs caused by underpopulation.\n",
    "\n",
    "- Any live cell with more than three live neighbours dies, as if by overcrowding.\n",
    "\n",
    "- Any live cell with two or three live neighbours lives, unchanged, to the next generation.\n",
    "\n",
    "- Any dead cell with exactly three live neighbours becomes a live cell.\n"
   ]
  },
  {
   "cell_type": "code",
   "execution_count": 35,
   "id": "df8273de",
   "metadata": {
    "pycharm": {
     "name": "#%%\n"
    }
   },
   "outputs": [],
   "source": [
    "import numpy\n",
    "import matplotlib.pyplot as plt"
   ]
  },
  {
   "cell_type": "code",
   "execution_count": 36,
   "id": "2f05ee90",
   "metadata": {
    "pycharm": {
     "name": "#%%\n"
    }
   },
   "outputs": [],
   "source": [
    "Zarr = np.random.randint(0, 2, (128, 256))\n",
    "Zarr[:, [0, -1]] = 0\n",
    "Zarr[[0, -1]] = 0"
   ]
  },
  {
   "cell_type": "code",
   "execution_count": 8,
   "id": "df43d50f",
   "metadata": {
    "pycharm": {
     "name": "#%%\n"
    }
   },
   "outputs": [],
   "source": [
    "def compute_neighbours(Z):\n",
    "    rows, cols = len(Z), len(Z[0])\n",
    "    N = [[0 for y in range(cols)] for x in range(rows)]\n",
    "    for x in range(1, rows-1):\n",
    "        for y in range(1, cols-1):\n",
    "            N[x][y] = Z[x-1][y-1] + Z[x][y-1] + Z[x+1][y-1] \\\n",
    "                    + Z[x-1][y]               + Z[x+1][y]   \\\n",
    "                    + Z[x-1][y+1] + Z[x][y+1] + Z[x+1][y+1]\n",
    "    return N\n",
    "\n",
    "def iterate(Z):\n",
    "    rows, cols = len(Z), len(Z[0])\n",
    "    N = compute_neighbours(Z)\n",
    "    for x in range(1, rows-1):\n",
    "        for y in range(1, cols-1):\n",
    "            if Z[x][y] == 1 and (N[x][y] == 2 or N[x][y] == 3):\n",
    "                Z[x][y] = 1\n",
    "            elif Z[x][y] == 0 and N[x][y] == 3:\n",
    "                Z[x][y] = 1\n",
    "            else:\n",
    "                Z[x][y] = 0\n",
    "    return Z"
   ]
  },
  {
   "cell_type": "code",
   "execution_count": 37,
   "id": "cfa1e6db",
   "metadata": {
    "pycharm": {
     "name": "#%%\n"
    }
   },
   "outputs": [],
   "source": [
    "def iterate_numpy(Z):\n",
    "    # Count neighbours\n",
    "    N = (Z[0:-2,0:-2] + Z[0:-2,1:-1] + Z[0:-2,2:] +\n",
    "         Z[1:-1,0:-2]                + Z[1:-1,2:] +\n",
    "         Z[2:  ,0:-2] + Z[2:  ,1:-1] + Z[2:  ,2:])\n",
    "\n",
    "    # Apply rules\n",
    "    N3 = N==3\n",
    "    birth = N3 & (Z[1:-1,1:-1]==0)\n",
    "    survive = ((N==2) | N3) & (Z[1:-1,1:-1]==1)\n",
    "    Z[...] = 0\n",
    "    Z[1:-1,1:-1][birth | survive] = 1\n",
    "    return Z"
   ]
  },
  {
   "cell_type": "code",
   "execution_count": 51,
   "id": "73ccb2cb",
   "metadata": {
    "pycharm": {
     "name": "#%%\n"
    },
    "scrolled": true
   },
   "outputs": [
    {
     "name": "stdout",
     "output_type": "stream",
     "text": [
      "0 1 2 3 4 5 6 7 8 9 10 11 12 13 14 15 16 17 18 19 20 21 22 23 24 25 26 27 28 29 30 31 32 33 34 35 36 37 38 39 40 41 42 43 44 45 46 47 48 49 50 51 52 53 54 55 56 57 58 59 60 61 62 63 64 65 66 67 68 69 70 71 72 73 74 75 76 77 78 79 80 81 82 83 84 85 86 87 88 89 90 91 92 93 94 95 96 97 98 99 "
     ]
    }
   ],
   "source": [
    "Zlst = Zarr.tolist()\n",
    "for i in range(100):\n",
    "    iterate(Zlst)\n",
    "    print(i, end = ' ')"
   ]
  },
  {
   "cell_type": "code",
   "execution_count": null,
   "outputs": [],
   "source": [
    "Z = Zarr.copy()\n",
    "for i in range(100):\n",
    "    iterate_numpy(Z)\n",
    "    print(i, end = ' ')"
   ],
   "metadata": {
    "collapsed": false,
    "pycharm": {
     "name": "#%%\n"
    }
   }
  },
  {
   "cell_type": "code",
   "execution_count": null,
   "outputs": [],
   "source": [
    "plt.figure()\n",
    "plt.matshow(Zlst, cmap='gray_r')\n",
    "plt.title('Python')\n",
    "plt.figure()\n",
    "plt.matshow(Z, cmap='gray_r')\n",
    "plt.title('Numpy')"
   ],
   "metadata": {
    "collapsed": false,
    "pycharm": {
     "name": "#%%\n"
    }
   }
  },
  {
   "cell_type": "markdown",
   "source": [
    "### Компиляция: **Numba**, Cython, F2PY, C API\n",
    "\n",
    "Существуют различные подходы для получения быстрого кода для работы с ним в `Python`:\n",
    "\n",
    "- [`Numba`](http://numba.pydata.org/) - just-in-time компилятор, позволяет писать на `Python` с использованием `Numpy`, а затем компилирует код как если бы он был написан на `C` с использованием математических библиотек\n",
    "\n",
    "- [`Cython`](https://cython.org/) - диалект `Python`, позволяющий смешивать `Python` и `C` в одном коде и точно контролировать все нюансы. Специалист по `Cython` в МИЭМ - [Буровский Евгений Андреевич](https://www.hse.ru/org/persons/190080844)\n",
    "\n",
    "- [`F2PY`](https://numpy.org/doc/stable/f2py/) - утилита, являющаяся частью `Numpy` и позволяющая создать интерфейс к `Python` для кода, написанного на `Fortran`\n",
    "\n",
    "- [`C API`](https://docs.python.org/3/c-api/index.html) - интерпретатор `CPython`, с которым мы работаем, поддерживает интерфейс с языком `C`. Т.е. можно писать и компилировать функции на языке `C`, а потом вручную создавать для них интерфейс к `Python`\n",
    "\n",
    "- и др.\n",
    "\n",
    "Мы будем использовать `Numba`, т.к. это позволит в большинстве случаев очень быстро и достаточно просто создавать эффективный код."
   ],
   "metadata": {
    "collapsed": false,
    "pycharm": {
     "name": "#%% md\n"
    }
   }
  },
  {
   "cell_type": "markdown",
   "source": [
    "### Пример"
   ],
   "metadata": {
    "collapsed": false,
    "pycharm": {
     "name": "#%% md\n"
    }
   }
  },
  {
   "cell_type": "code",
   "execution_count": null,
   "outputs": [],
   "source": [
    "import numpy as np\n",
    "from numba import njit\n",
    "\n",
    "# root mean squared\n",
    "def rms(lst):\n",
    "    r = 0\n",
    "    n = len(lst)\n",
    "    for i in range(n):\n",
    "        r += lst[i]**2\n",
    "    return (r / n)**0.5\n",
    "\n",
    "# jit-compiled version in nopython mode\n",
    "@njit\n",
    "def rms_jit(arr):\n",
    "    return np.sqrt(np.mean(arr**2))"
   ],
   "metadata": {
    "collapsed": false,
    "pycharm": {
     "name": "#%%\n"
    }
   }
  },
  {
   "cell_type": "code",
   "execution_count": null,
   "outputs": [],
   "source": [
    "arr = np.arange(1e6)\n",
    "lst = arr.tolist()"
   ],
   "metadata": {
    "collapsed": false,
    "pycharm": {
     "name": "#%%\n"
    }
   }
  },
  {
   "cell_type": "code",
   "execution_count": null,
   "outputs": [],
   "source": [
    "rms(arr)"
   ],
   "metadata": {
    "collapsed": false,
    "pycharm": {
     "name": "#%%\n"
    }
   }
  },
  {
   "cell_type": "code",
   "execution_count": null,
   "outputs": [],
   "source": [
    "rms_jit(arr)"
   ],
   "metadata": {
    "collapsed": false,
    "pycharm": {
     "name": "#%%\n"
    }
   }
  },
  {
   "cell_type": "markdown",
   "source": [
    "### Измерение времени выполнения\n",
    "\n",
    "- `time`\n",
    "- `timeit`\n",
    "- %%timeit, %timeit, %%time, %time\n",
    "- profilers"
   ],
   "metadata": {
    "collapsed": false,
    "pycharm": {
     "name": "#%% md\n"
    }
   }
  },
  {
   "cell_type": "markdown",
   "source": [
    "#### Однократное измерение"
   ],
   "metadata": {
    "collapsed": false,
    "pycharm": {
     "name": "#%% md\n"
    }
   }
  },
  {
   "cell_type": "code",
   "execution_count": null,
   "outputs": [],
   "source": [
    "from time import time"
   ],
   "metadata": {
    "collapsed": false,
    "pycharm": {
     "name": "#%%\n"
    }
   }
  },
  {
   "cell_type": "code",
   "execution_count": null,
   "outputs": [],
   "source": [
    "t = time()\n",
    "rms(arr)\n",
    "print(time() - t, 's')"
   ],
   "metadata": {
    "collapsed": false,
    "pycharm": {
     "name": "#%%\n"
    }
   }
  },
  {
   "cell_type": "code",
   "execution_count": null,
   "outputs": [],
   "source": [
    "t = time()\n",
    "rms_jit(arr)\n",
    "print(time() - t, 's')"
   ],
   "metadata": {
    "collapsed": false,
    "pycharm": {
     "name": "#%%\n"
    }
   }
  },
  {
   "cell_type": "markdown",
   "source": [
    "#### Многократное измерение"
   ],
   "metadata": {
    "collapsed": false,
    "pycharm": {
     "name": "#%% md\n"
    }
   }
  },
  {
   "cell_type": "code",
   "execution_count": null,
   "outputs": [],
   "source": [
    "from timeit import timeit"
   ],
   "metadata": {
    "collapsed": false,
    "pycharm": {
     "name": "#%%\n"
    }
   }
  },
  {
   "cell_type": "code",
   "execution_count": null,
   "outputs": [],
   "source": [
    "n = 10\n",
    "timeit(\"rms(arr)\", number=n, globals=globals()) / n"
   ],
   "metadata": {
    "collapsed": false,
    "pycharm": {
     "name": "#%%\n"
    }
   }
  },
  {
   "cell_type": "code",
   "execution_count": null,
   "outputs": [],
   "source": [
    "n = 100\n",
    "timeit(\"rms_jit(arr)\", number=n, globals=globals()) / n"
   ],
   "metadata": {
    "collapsed": false,
    "pycharm": {
     "name": "#%%\n"
    }
   }
  },
  {
   "cell_type": "markdown",
   "source": [
    "#### IPython `%magic`"
   ],
   "metadata": {
    "collapsed": false,
    "pycharm": {
     "name": "#%% md\n"
    }
   }
  },
  {
   "cell_type": "code",
   "execution_count": null,
   "outputs": [],
   "source": [
    "%time rms(arr)  # измерить одну строку однократно"
   ],
   "metadata": {
    "collapsed": false,
    "pycharm": {
     "name": "#%%\n"
    }
   }
  },
  {
   "cell_type": "code",
   "execution_count": null,
   "outputs": [],
   "source": [
    "%%time \n",
    "# измерить всю ячейку однократно\n",
    "rms(arr)"
   ],
   "metadata": {
    "collapsed": false,
    "pycharm": {
     "name": "#%%\n"
    }
   }
  },
  {
   "cell_type": "code",
   "execution_count": null,
   "outputs": [],
   "source": [
    "%timeit rms_jit(arr)  # измерить одну строку статистически"
   ],
   "metadata": {
    "collapsed": false,
    "pycharm": {
     "name": "#%%\n"
    }
   }
  },
  {
   "cell_type": "code",
   "execution_count": null,
   "outputs": [],
   "source": [
    "%%timeit  # измерить всю ячейку статистически\n",
    "rms_jit(arr)"
   ],
   "metadata": {
    "collapsed": false,
    "pycharm": {
     "name": "#%%\n"
    }
   }
  },
  {
   "cell_type": "markdown",
   "source": [
    "### Распараллеливание на одной машине: Numba, joblib, dask\n",
    "\n",
    "- [`Numba`]() позволяет автоматически:\n",
    "    - распараллеливать циклы с независимыми итерациями, иногда со слабо зависимыми (только threads)\n",
    "    - использует инструкции SSE, AVX для SIMD-распараллеливания\n",
    "    \n",
    "- [`joblib`](https://joblib.readthedocs.io/en/latest/) позволяет:\n",
    "    - распараллеливать вычисления на уровне отдельных задач (`task farming`)\n",
    "    - использует потоки или процессы\n",
    "    \n",
    "- [`dask`](https://dask.org/) позволяет:\n",
    "    - распараллеливать `Numpy`-вычисления (алгоритмы на многомерных массивах)\n",
    "    - распараллеливать как локально, так и на кластер\n",
    "    - обрабатывать большие массивы данных, не загружая их полностью в ОЗУ\n",
    "    \n",
    "- [`CuPy`](https://docs.cupy.dev/en/stable/index.html):\n",
    "    - мимикрирует под `Numpy`\n",
    "    - позволяет выполнять вычисления на `GPU`\n",
    "    - писать пользовательские ядра на `Python` и `C`"
   ],
   "metadata": {
    "collapsed": false,
    "pycharm": {
     "name": "#%% md\n"
    }
   }
  },
  {
   "cell_type": "markdown",
   "source": [
    "### Пример"
   ],
   "metadata": {
    "collapsed": false,
    "pycharm": {
     "name": "#%% md\n"
    }
   }
  },
  {
   "cell_type": "code",
   "execution_count": null,
   "outputs": [],
   "source": [
    "from joblib import Parallel, delayed"
   ],
   "metadata": {
    "collapsed": false,
    "pycharm": {
     "name": "#%%\n"
    }
   }
  },
  {
   "cell_type": "code",
   "execution_count": null,
   "outputs": [],
   "source": [
    "@delayed\n",
    "def calc(data):\n",
    "    print('Real calculation')\n",
    "    return np.linalg.svd(data)"
   ],
   "metadata": {
    "collapsed": false,
    "pycharm": {
     "name": "#%%\n"
    }
   }
  },
  {
   "cell_type": "code",
   "execution_count": null,
   "outputs": [],
   "source": [
    "arr = np.random.rand(50, 1000, 1000)"
   ],
   "metadata": {
    "collapsed": false,
    "pycharm": {
     "name": "#%%\n"
    }
   }
  },
  {
   "cell_type": "code",
   "execution_count": null,
   "outputs": [],
   "source": [
    "result = Parallel(n_jobs=4, verbose=10)(calc(x) for x in arr)"
   ],
   "metadata": {
    "collapsed": false,
    "pycharm": {
     "name": "#%%\n"
    }
   }
  },
  {
   "cell_type": "code",
   "execution_count": null,
   "outputs": [],
   "source": [
    "del arr"
   ],
   "metadata": {
    "collapsed": false,
    "pycharm": {
     "name": "#%%\n"
    }
   }
  },
  {
   "cell_type": "markdown",
   "source": [
    "### Progress bar (контроль за ходом вычислений)\n",
    "\n",
    "Различные инструменты описаны в хорошем обзоре: [Отслеживаем прогресс выполнения в Python](https://habr.com/ru/post/483400/)\n",
    "\n",
    "Рассмотрим два варианта:\n",
    "- вывод номера итерации - не требует никаких специальных инструментов\n",
    "- модуль `tqdm` - очень прострой в использовании и универсальный"
   ],
   "metadata": {
    "collapsed": false,
    "pycharm": {
     "name": "#%% md\n"
    }
   }
  },
  {
   "cell_type": "code",
   "execution_count": null,
   "outputs": [],
   "source": [
    "for i in range(10):\n",
    "    rms(arr)\n",
    "    print(i, end=' ')"
   ],
   "metadata": {
    "collapsed": false,
    "pycharm": {
     "name": "#%%\n"
    }
   }
  },
  {
   "cell_type": "code",
   "execution_count": null,
   "outputs": [],
   "source": [
    "from tqdm import trange, tqdm"
   ],
   "metadata": {
    "collapsed": false,
    "pycharm": {
     "name": "#%%\n"
    }
   }
  },
  {
   "cell_type": "code",
   "execution_count": null,
   "outputs": [],
   "source": [
    "for i in trange(10):\n",
    "    rms(arr)"
   ],
   "metadata": {
    "collapsed": false,
    "pycharm": {
     "name": "#%%\n"
    }
   }
  },
  {
   "cell_type": "code",
   "execution_count": null,
   "outputs": [],
   "source": [
    "for c in tqdm('abcdef'):\n",
    "    rms(arr)"
   ],
   "metadata": {
    "collapsed": false,
    "pycharm": {
     "name": "#%%\n"
    }
   }
  },
  {
   "cell_type": "code",
   "execution_count": null,
   "outputs": [],
   "source": [
    "from tqdm.notebook import trange"
   ],
   "metadata": {
    "collapsed": false,
    "pycharm": {
     "name": "#%%\n"
    }
   }
  },
  {
   "cell_type": "code",
   "execution_count": null,
   "outputs": [],
   "source": [
    "for i in trange(10):\n",
    "    rms(arr)"
   ],
   "metadata": {
    "collapsed": false,
    "pycharm": {
     "name": "#%%\n"
    }
   }
  },
  {
   "cell_type": "code",
   "execution_count": null,
   "outputs": [],
   "source": [
    "for i in trange(5):\n",
    "    for j in trange(5, position=1, leave=False):\n",
    "        rms(arr)"
   ],
   "metadata": {
    "collapsed": false,
    "pycharm": {
     "name": "#%%\n"
    }
   }
  },
  {
   "cell_type": "markdown",
   "source": [
    "### Численные методы\n",
    "\n",
    "Библиотека [`Scipy`](https://docs.scipy.org/doc/scipy/reference/tutorial/index.html#user-guide) предоставляет множество готовых эффективных алгоритмов численных методов:\n",
    "- интегрирование, в том числе ОДУ\n",
    "- оптимизация\n",
    "- интерполяция\n",
    "- преобразование Фурье\n",
    "- обработка сигналов\n",
    "- линейная алгебра\n",
    "- разреженные матрицы\n",
    "- статистика\n",
    "- и др."
   ],
   "metadata": {
    "collapsed": false,
    "pycharm": {
     "name": "#%% md\n"
    }
   }
  },
  {
   "cell_type": "markdown",
   "source": [
    "### Пример"
   ],
   "metadata": {
    "collapsed": false,
    "pycharm": {
     "name": "#%% md\n"
    }
   }
  },
  {
   "cell_type": "markdown",
   "source": [
    "[Примеры ядер свертки](https://robocraft.ru/blog/computervision/427.html)\n",
    "\n",
    "[Типы ядер свертки](https://www.machinelearningmastery.ru/types-of-convolution-kernels-simplified-f040cb307c37/)"
   ],
   "metadata": {
    "collapsed": false,
    "pycharm": {
     "name": "#%% md\n"
    }
   }
  },
  {
   "cell_type": "code",
   "execution_count": null,
   "outputs": [],
   "source": [
    "from scipy import signal\n",
    "from scipy import misc\n",
    "ascent = misc.ascent()\n",
    "scharr = np.array([[ -3-3j, 0-10j,  +3 -3j],\n",
    "                   [-10+0j, 0+ 0j, +10 +0j],\n",
    "                   [ -3+3j, 0+10j,  +3 +3j]]) # Gx + j*Gy\n",
    "grad = signal.convolve2d(ascent, scharr, boundary='symm', mode='same')"
   ],
   "metadata": {
    "collapsed": false,
    "pycharm": {
     "name": "#%%\n"
    }
   }
  },
  {
   "cell_type": "code",
   "execution_count": null,
   "outputs": [],
   "source": [
    "import matplotlib.pyplot as plt\n",
    "plt.figure()\n",
    "plt.imshow(ascent, cmap='gray')\n",
    "plt.title('Оригинальное изображение')\n",
    "plt.figure()\n",
    "plt.imshow(np.absolute(grad), cmap='gray')\n",
    "plt.title('Модуль градиента')\n",
    "plt.figure()\n",
    "plt.imshow(np.angle(grad), cmap='hsv')\n",
    "plt.title('Направление градиента')"
   ],
   "metadata": {
    "collapsed": false,
    "pycharm": {
     "name": "#%%\n"
    }
   }
  },
  {
   "cell_type": "markdown",
   "id": "a81344d8",
   "metadata": {
    "pycharm": {
     "name": "#%% md\n"
    }
   },
   "source": [
    "### Задание\n",
    "\n",
    "Применить другие ядра и визуализировать результат"
   ]
  },
  {
   "cell_type": "code",
   "execution_count": null,
   "id": "1edc1dbb",
   "metadata": {
    "pycharm": {
     "name": "#%%\n"
    }
   },
   "outputs": [],
   "source": []
  },
  {
   "cell_type": "markdown",
   "id": "c874efd9",
   "metadata": {
    "pycharm": {
     "name": "#%% md\n"
    }
   },
   "source": [
    "### Символьные вычисления\n",
    "\n",
    "Библиотека [`Sympy`](https://www.sympy.org/en/index.html) предоставляет инстументы для символьных вычислений\n"
   ]
  },
  {
   "cell_type": "code",
   "execution_count": 32,
   "id": "9e692422",
   "metadata": {
    "pycharm": {
     "name": "#%%\n"
    }
   },
   "outputs": [],
   "source": [
    "from sympy import symbols, diff, integrate, Matrix, sin, cos, exp"
   ]
  },
  {
   "cell_type": "code",
   "execution_count": 33,
   "id": "f1e3a408",
   "metadata": {
    "pycharm": {
     "name": "#%%\n"
    }
   },
   "outputs": [
    {
     "data": {
      "text/latex": [
       "$\\displaystyle \\left[\\begin{matrix}y + \\sin{\\left(x \\right)}\\\\x + \\cos{\\left(y \\right)}\\\\z\\end{matrix}\\right]$"
      ],
      "text/plain": [
       "Matrix([\n",
       "[y + sin(x)],\n",
       "[x + cos(y)],\n",
       "[         z]])"
      ]
     },
     "execution_count": 33,
     "metadata": {},
     "output_type": "execute_result"
    }
   ],
   "source": [
    "x, y, z = symbols('x y z')\n",
    "M = Matrix([sin(x) + y, cos(y) + x, z])\n",
    "M"
   ]
  },
  {
   "cell_type": "code",
   "execution_count": 34,
   "id": "5bb71afb",
   "metadata": {
    "pycharm": {
     "name": "#%%\n"
    }
   },
   "outputs": [
    {
     "data": {
      "text/latex": [
       "$\\displaystyle \\left[\\begin{matrix}\\cos{\\left(x \\right)} & 1 & 0\\\\1 & - \\sin{\\left(y \\right)} & 0\\\\0 & 0 & 1\\end{matrix}\\right]$"
      ],
      "text/plain": [
       "Matrix([\n",
       "[cos(x),       1, 0],\n",
       "[     1, -sin(y), 0],\n",
       "[     0,       0, 1]])"
      ]
     },
     "execution_count": 34,
     "metadata": {},
     "output_type": "execute_result"
    }
   ],
   "source": [
    "M.jacobian([x, y, z])"
   ]
  },
  {
   "cell_type": "code",
   "execution_count": 35,
   "id": "b040ddd2",
   "metadata": {
    "pycharm": {
     "name": "#%%\n"
    }
   },
   "outputs": [
    {
     "data": {
      "text/latex": [
       "$\\displaystyle e^{x} \\sin{\\left(x \\right)} + e^{x} \\cos{\\left(x \\right)}$"
      ],
      "text/plain": [
       "exp(x)*sin(x) + exp(x)*cos(x)"
      ]
     },
     "execution_count": 35,
     "metadata": {},
     "output_type": "execute_result"
    }
   ],
   "source": [
    "diff(exp(x)*sin(x), x)"
   ]
  },
  {
   "cell_type": "code",
   "execution_count": 36,
   "id": "7c0a16f9",
   "metadata": {
    "pycharm": {
     "name": "#%%\n"
    }
   },
   "outputs": [
    {
     "data": {
      "text/latex": [
       "$\\displaystyle \\frac{e^{x} \\sin{\\left(x \\right)}}{2} - \\frac{e^{x} \\cos{\\left(x \\right)}}{2}$"
      ],
      "text/plain": [
       "exp(x)*sin(x)/2 - exp(x)*cos(x)/2"
      ]
     },
     "execution_count": 36,
     "metadata": {},
     "output_type": "execute_result"
    }
   ],
   "source": [
    "integrate(exp(x)*sin(x), x)"
   ]
  },
  {
   "cell_type": "code",
   "execution_count": 37,
   "id": "93b18e2f",
   "metadata": {
    "pycharm": {
     "name": "#%%\n"
    }
   },
   "outputs": [
    {
     "data": {
      "text/latex": [
       "$\\displaystyle e^{x} \\sin{\\left(x \\right)} + e^{x} \\cos{\\left(x \\right)}$"
      ],
      "text/plain": [
       "exp(x)*sin(x) + exp(x)*cos(x)"
      ]
     },
     "execution_count": 37,
     "metadata": {},
     "output_type": "execute_result"
    }
   ],
   "source": [
    "df = diff(exp(x)*sin(x), x)\n",
    "df"
   ]
  },
  {
   "cell_type": "code",
   "execution_count": 38,
   "id": "83b17497",
   "metadata": {
    "pycharm": {
     "name": "#%%\n"
    }
   },
   "outputs": [],
   "source": [
    "from sympy.utilities.autowrap import ufuncify\n",
    "dfn = ufuncify([x], df)"
   ]
  },
  {
   "cell_type": "code",
   "execution_count": 39,
   "id": "8011cfd0",
   "metadata": {
    "pycharm": {
     "name": "#%%\n"
    }
   },
   "outputs": [
    {
     "data": {
      "text/plain": [
       "array([ 1.00000000e+00,  1.00000002e+00,  1.00000004e+00, ...,\n",
       "       -3.04646420e+04, -3.04646424e+04, -3.04646427e+04])"
      ]
     },
     "execution_count": 39,
     "metadata": {},
     "output_type": "execute_result"
    }
   ],
   "source": [
    "dfn(np.linspace(0, 10, 1000000000))"
   ]
  },
  {
   "cell_type": "markdown",
   "id": "2d9afa40",
   "metadata": {
    "pycharm": {
     "name": "#%% md\n"
    }
   },
   "source": [
    "### Задание\n",
    "\n",
    "Реализовать функцию `df`, используя операции `Numpy` и сравнить время вычислений с `dfn`"
   ]
  },
  {
   "cell_type": "code",
   "execution_count": null,
   "id": "74ec74f5",
   "metadata": {
    "pycharm": {
     "name": "#%%\n"
    }
   },
   "outputs": [],
   "source": []
  }
 ],
 "metadata": {
  "kernelspec": {
   "display_name": "Python 3 (ipykernel)",
   "language": "python",
   "name": "python3"
  },
  "language_info": {
   "codemirror_mode": {
    "name": "ipython",
    "version": 3
   },
   "file_extension": ".py",
   "mimetype": "text/x-python",
   "name": "python",
   "nbconvert_exporter": "python",
   "pygments_lexer": "ipython3",
   "version": "3.9.7"
  }
 },
 "nbformat": 4,
 "nbformat_minor": 5
}