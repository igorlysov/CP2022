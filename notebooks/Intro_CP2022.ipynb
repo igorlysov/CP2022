{
  "cells": [
    {
      "cell_type": "markdown",
      "metadata": {
        "id": "view-in-github",
        "colab_type": "text"
      },
      "source": [
        "<a href=\"https://colab.research.google.com/github/igorlysov/CP2022/blob/main/notebooks/Intro_CP2022.ipynb\" target=\"_parent\"><img src=\"https://colab.research.google.com/assets/colab-badge.svg\" alt=\"Open In Colab\"/></a>"
      ]
    },
    {
      "cell_type": "markdown",
      "id": "06a89a5d",
      "metadata": {
        "pycharm": {
          "name": "#%% md\n"
        },
        "id": "06a89a5d"
      },
      "source": [
        "# Компьютерный практикум 2022-2023"
      ]
    },
    {
      "cell_type": "markdown",
      "id": "4892c7e1",
      "metadata": {
        "pycharm": {
          "name": "#%% md\n"
        },
        "id": "4892c7e1"
      },
      "source": [
        "## Семинар 1. Python для эффективных вычислений\n",
        "\n",
        "- Python - дирижер компилированного кода\n",
        "\n",
        "- Средства разработки: `PyCharm`, `Jupyter Notebook` / `Jupyter Lab`\n",
        "\n",
        "- Как создать быстрый код для решения задачи?\n",
        "\n",
        "- Массивы: `Numpy`\n",
        "    \n",
        "- Компиляция: `Numba`, `Cython`, `F2PY`, `C API`\n",
        "    \n",
        "- Измерение времени выполнения `timeit`\n",
        "    \n",
        "- Распараллеливание на одной машине: `Numba`, `joblib`, `dask`, `CuPy`\n",
        "    \n",
        "- Progress bar (контроль за ходом вычислений): `tqdm`\n",
        "\n",
        "- Визуализация: `matplotlib`\n",
        "\n",
        "- Численные методы `Scipy`\n",
        "\n",
        "- Символьные вычисления `Sympy`\n"
      ]
    },
    {
      "cell_type": "markdown",
      "id": "35b40103",
      "metadata": {
        "pycharm": {
          "name": "#%% md\n"
        },
        "id": "35b40103"
      },
      "source": [
        "## Оценивание\n",
        "\n",
        "- Итоговая оценка за курс выставляется по накопленной\n",
        "\n",
        "\n",
        "- Накопленная формируется из оценок за домашние задания $ДЗ_i$\n",
        "\n",
        "\n",
        "- Всего $4$ домашних задания, по одному в модуль\n",
        "\n",
        "\n",
        "- В домашние задания входит $2, 3, 2, 2$ задачи (возможны изменения)\n",
        "\n",
        "\n",
        "- **Важно! Задачи сложные и содержат большой объем расчетов!**\n",
        "\n",
        "\n",
        "- Накопленная оценка $НО = 0.13 \\cdot ДЗ_1 + 0.29 \\cdot ДЗ_2 + 0.29 \\cdot ДЗ_3 + 0.29 \\cdot ДЗ_4$\n",
        "\n",
        "\n",
        "- $ДЗ_i$ вычисляется для каждого задания по формулам, указанным в задании, по 100-балльной системе\n",
        "\n",
        "\n",
        "- $НО = 100$ эквивалентна итоговым $8.49$ баллам (по 10-балльной системе)\n",
        "\n",
        "\n",
        "- округление - арифметическое: $7.50 \\rightarrow 8.0$, $7.49 \\rightarrow 7.0$\n",
        "\n",
        "\n",
        "- $9$ и $10$ итоговых баллов можно получить за *исключительные заслуги*\n",
        "    - исключительные заслуги оговариваются индивидуально\n",
        "\n",
        "\n",
        "- **Внимание! Возможность переписать работу не предусмотрена**\n",
        "\n"
      ]
    },
    {
      "cell_type": "markdown",
      "id": "88ee5bae",
      "metadata": {
        "pycharm": {
          "name": "#%% md\n"
        },
        "id": "88ee5bae"
      },
      "source": [
        "## Список тем (возможны изменения)\n",
        "\n",
        "- Введение\n",
        "- `Numba` - трансляция и компиляция кода\n",
        "- `Numpy` - массивы и вычисления\n",
        "- Перенос тепла\n",
        "- Прокрустово преобразование, преобразование фурье\n",
        "- `VisPy` - визуализация на основе `OpenGL`\n",
        "- `Boids` - взаимодействие независимых агентов\n",
        "- `Shaders`, `SDF` - двумерная графика, функция расстояния до объекта со знаком\n",
        "- `Taichi` - библиотека для трансляции и компиляции кода на CPU/GPU\n",
        "- `Ray marching` - трехмерная графика\n",
        "- `Diagnosis` - задача о постановке диагноза\n",
        "- `Runge-Kutta`, `orbits` - интегрирование СОДУ, орбиты\n",
        "- `SPICE`, карты видимости\n"
      ]
    },
    {
      "cell_type": "markdown",
      "id": "c6158d46",
      "metadata": {
        "pycharm": {
          "name": "#%% md\n"
        },
        "id": "c6158d46"
      },
      "source": [
        "#### Установка модулей"
      ]
    },
    {
      "cell_type": "code",
      "execution_count": null,
      "id": "0de2ed52",
      "metadata": {
        "pycharm": {
          "name": "#%%\n"
        },
        "id": "0de2ed52",
        "outputId": "e5bdfa18-1eb3-4b9c-a3d7-397ad0e8394d"
      },
      "outputs": [
        {
          "name": "stdout",
          "output_type": "stream",
          "text": [
            "Requirement already satisfied: numpy in c:\\users\\demin\\anaconda3\\lib\\site-packages (1.21.5)\n",
            "Requirement already satisfied: scipy in c:\\users\\demin\\anaconda3\\lib\\site-packages (1.7.3)\n",
            "Requirement already satisfied: matplotlib in c:\\users\\demin\\anaconda3\\lib\\site-packages (3.5.1)\n",
            "Requirement already satisfied: numba in c:\\users\\demin\\anaconda3\\lib\\site-packages (0.55.1)\n",
            "Requirement already satisfied: sympy in c:\\users\\demin\\anaconda3\\lib\\site-packages (1.10.1)\n",
            "Requirement already satisfied: joblib in c:\\users\\demin\\anaconda3\\lib\\site-packages (1.1.0)\n",
            "Requirement already satisfied: tqdm in c:\\users\\demin\\anaconda3\\lib\\site-packages (4.64.0)\n",
            "Requirement already satisfied: kiwisolver>=1.0.1 in c:\\users\\demin\\anaconda3\\lib\\site-packages (from matplotlib) (1.3.2)\n",
            "Requirement already satisfied: pyparsing>=2.2.1 in c:\\users\\demin\\anaconda3\\lib\\site-packages (from matplotlib) (3.0.4)\n",
            "Requirement already satisfied: pillow>=6.2.0 in c:\\users\\demin\\anaconda3\\lib\\site-packages (from matplotlib) (9.0.1)\n",
            "Requirement already satisfied: fonttools>=4.22.0 in c:\\users\\demin\\anaconda3\\lib\\site-packages (from matplotlib) (4.25.0)\n",
            "Requirement already satisfied: python-dateutil>=2.7 in c:\\users\\demin\\anaconda3\\lib\\site-packages (from matplotlib) (2.8.2)\n",
            "Requirement already satisfied: packaging>=20.0 in c:\\users\\demin\\anaconda3\\lib\\site-packages (from matplotlib) (21.3)\n",
            "Requirement already satisfied: cycler>=0.10 in c:\\users\\demin\\anaconda3\\lib\\site-packages (from matplotlib) (0.11.0)\n",
            "Requirement already satisfied: setuptools in c:\\users\\demin\\anaconda3\\lib\\site-packages (from numba) (61.2.0)\n",
            "Requirement already satisfied: llvmlite<0.39,>=0.38.0rc1 in c:\\users\\demin\\anaconda3\\lib\\site-packages (from numba) (0.38.0)\n",
            "Requirement already satisfied: mpmath>=0.19 in c:\\users\\demin\\anaconda3\\lib\\site-packages (from sympy) (1.2.1)\n",
            "Requirement already satisfied: colorama in c:\\users\\demin\\anaconda3\\lib\\site-packages (from tqdm) (0.4.4)\n",
            "Requirement already satisfied: six>=1.5 in c:\\users\\demin\\anaconda3\\lib\\site-packages (from python-dateutil>=2.7->matplotlib) (1.16.0)\n"
          ]
        }
      ],
      "source": [
        "!pip install --user numpy scipy matplotlib numba sympy joblib tqdm"
      ]
    },
    {
      "cell_type": "markdown",
      "id": "528cfea5",
      "metadata": {
        "pycharm": {
          "name": "#%% md\n"
        },
        "id": "528cfea5"
      },
      "source": [
        "### Python - дирижер компилированного кода\n",
        "\n",
        "Давайте взглянем на репозитории таких мощных модулей как:\n",
        "- [Numpy](https://github.com/numpy/numpy)\n",
        "- [Scipy](https://github.com/scipy/scipy)\n",
        "- [Tensorfow](https://github.com/tensorflow/tensorflow)\n",
        "\n",
        "В каждом из них заметная часть кода написана не на `Python`, а на `C`, `C++`, `Fortran`, `Cython` и/или использует такие мощные математические библиотеки как [`MKL`](https://en.wikipedia.org/wiki/Math_Kernel_Library).\n",
        "\n",
        "Б$\\acute{о}$льшая часть вычислений выполняется благодаря компилированному коду.\n",
        "\n",
        "Как правило, код `Python` в этих библиотеках нужен для гибкости, удобства и красоты, т.е. для той самой `магии`, благодаря которой многие любят и используют `Python`.\n",
        "\n",
        "*Схема работы инженера с такими модулями*:\n",
        "\n",
        "Инженер $\\rightarrow$ классный и удобный код `Python` $\\rightarrow$ тяжелая жизнь разработчиков библиотек $\\rightarrow$ компилированный код, правильно настроенный под задачу инженера $\\rightarrow$ быстрый расчет $\\rightarrow$ красивый результат в среде `Python` $\\rightarrow$ довольный инженер"
      ]
    },
    {
      "cell_type": "markdown",
      "id": "f6ed29a6",
      "metadata": {
        "pycharm": {
          "name": "#%% md\n"
        },
        "id": "f6ed29a6"
      },
      "source": [
        "### Пример"
      ]
    },
    {
      "cell_type": "code",
      "execution_count": null,
      "id": "74447ab9",
      "metadata": {
        "id": "74447ab9"
      },
      "outputs": [],
      "source": []
    },
    {
      "cell_type": "markdown",
      "id": "34d44b70",
      "metadata": {
        "pycharm": {
          "name": "#%% md\n"
        },
        "id": "34d44b70"
      },
      "source": [
        "### Средства разработки\n",
        "\n",
        "- [`PyCharm`](https://www.jetbrains.com/community/education/#students) - мощная IDE, в которой есть практически всё, что нужно для разработки; для студентов доступна `Pro` версия бесплатно\n",
        "\n",
        "- [`Jupyter Notebook`](https://jupyter.org/) - удобная среда для работы с данными, интерактивной работы с кодом, хранения описания, кода и результатов в едином формате\n",
        "\n",
        "- [`Google Colab`](https://colab.research.google.com) - `Jupyter Notebook` в облаке с доступом к `GPU/TPU`; позволяет запускать код в облаке и не нагружать свой компьютер, но есть ограничения\n"
      ]
    },
    {
      "cell_type": "markdown",
      "id": "66b1dd00",
      "metadata": {
        "pycharm": {
          "name": "#%% md\n"
        },
        "id": "66b1dd00"
      },
      "source": [
        "### Как создать быстрый код для решения задачи?\n",
        "\n",
        "Постепенное приближение к результату:\n",
        "\n",
        "\n",
        "1. этап - **прототип**\n",
        "    1. прототип на `Python` (одна или несколько функций)\n",
        "    2. проверка корректности результатов расчетов на уменьшенной задаче (~ 1 минуты)\n",
        "\n",
        "\n",
        "2. этап - **последовательный компилированный код**\n",
        "    1. модификация или переписывание кода прототипа для компиляции\n",
        "    2. компиляция кода, основанного на прототипе\n",
        "    3. проверка корректности результатов расчетов на уменьшенной задаче (~ 1 минуты работы прототипа)\n",
        "    4. измерение времени работы компилированного кода - нужно ли еще ускорять?\n",
        "    5. обнаружение медленных мест и их устранение\n",
        "\n",
        "\n",
        "3. этап - **распараллеливание** (опциональный)\n",
        "    1. распараллеливание\n",
        "    2. сравнение результатов расчетов с последовательной версией или прототипом (~ 1 минуты работы последовательной версии или прототипа)\n",
        "\n",
        "\n",
        "4. этап - **предаврительные расчеты**\n",
        "    1. выполнение небольшой части расчетов (~5-10%)\n",
        "    2. контроль корректности результатов\n",
        "    3. модификация кода, позволяющая сохранять промежуточные результаты\n",
        "\n",
        "\n",
        "5. этап - **расчеты**\n",
        "    1. запуск вычислений в полном объёме\n",
        "    2. контроль корректности результатов\n",
        "    3. визуализация результатов"
      ]
    },
    {
      "cell_type": "markdown",
      "id": "394c43de",
      "metadata": {
        "pycharm": {
          "name": "#%% md\n"
        },
        "id": "394c43de"
      },
      "source": [
        "### Массивы Numpy\n",
        "\n",
        "Модуль `Numpy` позволяет эффективно работать с n-мерными массивами. Массивы `Numpy` организованы также, как и массивы в языке `C` и позволяют также быстро работать с ними.\n",
        "\n",
        "В `Numpy` реализовано:\n",
        "- создание и преобразование n-мерных массивов\n",
        "- множество типов элементов, например, `int8`, `uint64`, `float64` и др.\n",
        "- выбор элементов, срезы, маски\n",
        "- арифметические операции\n",
        "- агрегирующие операции\n",
        "- броадкастинг\n",
        "- сохранение/загрузка массивов в текстовом/бинарном формате\n",
        "- линейная алгебра\n",
        "- преобразование Фурье\n",
        "- и др."
      ]
    },
    {
      "cell_type": "markdown",
      "id": "da8f92a3",
      "metadata": {
        "pycharm": {
          "name": "#%% md\n"
        },
        "id": "da8f92a3"
      },
      "source": [
        "### Пример"
      ]
    },
    {
      "cell_type": "markdown",
      "id": "73ba4bef",
      "metadata": {
        "pycharm": {
          "name": "#%% md\n"
        },
        "id": "73ba4bef"
      },
      "source": [
        "[`Game of Life`](https://github.com/rougier/numpy-tutorial)\n",
        "\n",
        "The Game of Life, also known simply as Life, is a cellular automaton devised by the British mathematician John Horton Conway in 1970. It is the best-known example of a cellular automaton. The \"game\" is actually a zero-player game, meaning that its evolution is determined by its initial state, needing no input from human players. One interacts with the Game of Life by creating an initial configuration and observing how it evolves.\n",
        "\n",
        "The universe of the Game of Life is an infinite two-dimensional orthogonal grid of square cells, each of which is in one of two possible states, live or dead. Every cell interacts with its eight neighbours, which are the cells that are directly horizontally, vertically, or diagonally adjacent. At each step in time, the following transitions occur:\n",
        "\n",
        "- Any live cell with fewer than two live neighbours dies, as if by needs caused by underpopulation.\n",
        "\n",
        "- Any live cell with more than three live neighbours dies, as if by overcrowding.\n",
        "\n",
        "- Any live cell with two or three live neighbours lives, unchanged, to the next generation.\n",
        "\n",
        "- Any dead cell with exactly three live neighbours becomes a live cell.\n"
      ]
    },
    {
      "cell_type": "code",
      "execution_count": null,
      "id": "df8273de",
      "metadata": {
        "pycharm": {
          "name": "#%%\n"
        },
        "id": "df8273de"
      },
      "outputs": [],
      "source": []
    },
    {
      "cell_type": "markdown",
      "id": "e089f81e",
      "metadata": {
        "pycharm": {
          "name": "#%% md\n"
        },
        "id": "e089f81e"
      },
      "source": [
        "### Компиляция: **Numba**, Cython, F2PY, C API\n",
        "\n",
        "Существуют различные подходы для получения быстрого кода для работы с ним в `Python`:\n",
        "\n",
        "- [`Numba`](http://numba.pydata.org/) - just-in-time компилятор, позволяет писать на `Python` с использованием `Numpy`, а затем компилирует код как если бы он был написан на `C` с использованием математических библиотек\n",
        "\n",
        "- [`Cython`](https://cython.org/) - диалект `Python`, позволяющий смешивать `Python` и `C` в одном коде и точно контролировать все нюансы. Специалист по `Cython` в МИЭМ - [Буровский Евгений Андреевич](https://www.hse.ru/org/persons/190080844)\n",
        "\n",
        "- [`F2PY`](https://numpy.org/doc/stable/f2py/) - утилита, являющаяся частью `Numpy` и позволяющая создать интерфейс к `Python` для кода, написанного на `Fortran`\n",
        "\n",
        "- [`C API`](https://docs.python.org/3/c-api/index.html) - интерпретатор `CPython`, с которым мы работаем, поддерживает интерфейс с языком `C`. Т.е. можно писать и компилировать функции на языке `C`, а потом вручную создавать для них интерфейс к `Python`\n",
        "\n",
        "- и др.\n",
        "\n",
        "Мы будем использовать `Numba`, т.к. это позволит в большинстве случаев очень быстро и достаточно просто создавать эффективный код."
      ]
    },
    {
      "cell_type": "markdown",
      "id": "b1630fb9",
      "metadata": {
        "pycharm": {
          "name": "#%% md\n"
        },
        "id": "b1630fb9"
      },
      "source": [
        "### Пример"
      ]
    },
    {
      "cell_type": "code",
      "execution_count": null,
      "id": "2352dd05",
      "metadata": {
        "pycharm": {
          "name": "#%%\n"
        },
        "id": "2352dd05"
      },
      "outputs": [],
      "source": []
    },
    {
      "cell_type": "markdown",
      "id": "b75e40a7",
      "metadata": {
        "pycharm": {
          "name": "#%% md\n"
        },
        "id": "b75e40a7"
      },
      "source": [
        "### Измерение времени выполнения\n",
        "\n",
        "- `time`\n",
        "- `timeit`\n",
        "- %%timeit, %timeit, %%time, %time\n",
        "- profilers"
      ]
    },
    {
      "cell_type": "markdown",
      "id": "8b21ac0e",
      "metadata": {
        "pycharm": {
          "name": "#%% md\n"
        },
        "id": "8b21ac0e"
      },
      "source": [
        "#### Однократное измерение"
      ]
    },
    {
      "cell_type": "code",
      "execution_count": null,
      "id": "405617f6",
      "metadata": {
        "pycharm": {
          "name": "#%%\n"
        },
        "id": "405617f6"
      },
      "outputs": [],
      "source": []
    },
    {
      "cell_type": "markdown",
      "id": "0b57bb92",
      "metadata": {
        "pycharm": {
          "name": "#%% md\n"
        },
        "id": "0b57bb92"
      },
      "source": [
        "#### Многократное измерение"
      ]
    },
    {
      "cell_type": "code",
      "execution_count": null,
      "id": "0b9dfd28",
      "metadata": {
        "pycharm": {
          "name": "#%%\n"
        },
        "id": "0b9dfd28"
      },
      "outputs": [],
      "source": []
    },
    {
      "cell_type": "markdown",
      "id": "402fcc64",
      "metadata": {
        "pycharm": {
          "name": "#%% md\n"
        },
        "id": "402fcc64"
      },
      "source": [
        "#### IPython `%magic`"
      ]
    },
    {
      "cell_type": "markdown",
      "id": "1c898137",
      "metadata": {
        "pycharm": {
          "name": "#%% md\n"
        },
        "id": "1c898137"
      },
      "source": [
        "### Распараллеливание на одной машине: Numba, joblib, dask\n",
        "\n",
        "- [`Numba`]() позволяет автоматически:\n",
        "    - распараллеливать циклы с независимыми итерациями, иногда со слабо зависимыми (только threads)\n",
        "    - использует инструкции SSE, AVX для SIMD-распараллеливания\n",
        "    \n",
        "- [`joblib`](https://joblib.readthedocs.io/en/latest/) позволяет:\n",
        "    - распараллеливать вычисления на уровне отдельных задач (`task farming`)\n",
        "    - использует потоки или процессы\n",
        "    \n",
        "- [`dask`](https://dask.org/) позволяет:\n",
        "    - распараллеливать `Numpy`-вычисления (алгоритмы на многомерных массивах)\n",
        "    - распараллеливать как локально, так и на кластер\n",
        "    - обрабатывать большие массивы данных, не загружая их полностью в ОЗУ\n",
        "    \n",
        "- [`CuPy`](https://docs.cupy.dev/en/stable/index.html):\n",
        "    - мимикрирует под `Numpy`\n",
        "    - позволяет выполнять вычисления на `GPU`\n",
        "    - писать пользовательские ядра на `Python` и `C`"
      ]
    },
    {
      "cell_type": "markdown",
      "id": "3efce508",
      "metadata": {
        "pycharm": {
          "name": "#%% md\n"
        },
        "id": "3efce508"
      },
      "source": [
        "### Пример"
      ]
    },
    {
      "cell_type": "code",
      "execution_count": null,
      "id": "9acba39a",
      "metadata": {
        "pycharm": {
          "name": "#%%\n"
        },
        "id": "9acba39a"
      },
      "outputs": [],
      "source": []
    },
    {
      "cell_type": "markdown",
      "id": "4e31bf1b",
      "metadata": {
        "pycharm": {
          "name": "#%% md\n"
        },
        "id": "4e31bf1b"
      },
      "source": [
        "### Progress bar (контроль за ходом вычислений)\n",
        "\n",
        "Различные инструменты описаны в хорошем обзоре: [Отслеживаем прогресс выполнения в Python](https://habr.com/ru/post/483400/)\n",
        "\n",
        "Рассмотрим два варианта:\n",
        "- вывод номера итерации - не требует никаких специальных инструментов\n",
        "- модуль `tqdm` - очень прострой в использовании и универсальный"
      ]
    },
    {
      "cell_type": "markdown",
      "id": "cbd98149",
      "metadata": {
        "pycharm": {
          "name": "#%% md\n"
        },
        "id": "cbd98149"
      },
      "source": [
        "### Численные методы\n",
        "\n",
        "Библиотека [`Scipy`](https://docs.scipy.org/doc/scipy/reference/tutorial/index.html#user-guide) предоставляет множество готовых эффективных алгоритмов численных методов:\n",
        "- интегрирование, в том числе ОДУ\n",
        "- оптимизация\n",
        "- интерполяция\n",
        "- преобразование Фурье\n",
        "- обработка сигналов\n",
        "- линейная алгебра\n",
        "- разреженные матрицы\n",
        "- статистика\n",
        "- и др."
      ]
    },
    {
      "cell_type": "markdown",
      "id": "915d78a5",
      "metadata": {
        "pycharm": {
          "name": "#%% md\n"
        },
        "id": "915d78a5"
      },
      "source": [
        "### Пример"
      ]
    },
    {
      "cell_type": "markdown",
      "id": "ba9e9a78",
      "metadata": {
        "pycharm": {
          "name": "#%% md\n"
        },
        "id": "ba9e9a78"
      },
      "source": [
        "[Примеры ядер свертки](https://robocraft.ru/blog/computervision/427.html)\n",
        "\n",
        "[Типы ядер свертки](https://www.machinelearningmastery.ru/types-of-convolution-kernels-simplified-f040cb307c37/)"
      ]
    },
    {
      "cell_type": "code",
      "execution_count": null,
      "id": "66e54e70",
      "metadata": {
        "pycharm": {
          "name": "#%%\n"
        },
        "id": "66e54e70"
      },
      "outputs": [],
      "source": []
    },
    {
      "cell_type": "markdown",
      "id": "a81344d8",
      "metadata": {
        "pycharm": {
          "name": "#%% md\n"
        },
        "id": "a81344d8"
      },
      "source": [
        "### Задание\n",
        "\n",
        "Применить другие ядра и визуализировать результат"
      ]
    },
    {
      "cell_type": "code",
      "execution_count": null,
      "id": "1edc1dbb",
      "metadata": {
        "pycharm": {
          "name": "#%%\n"
        },
        "id": "1edc1dbb"
      },
      "outputs": [],
      "source": []
    },
    {
      "cell_type": "markdown",
      "id": "c874efd9",
      "metadata": {
        "pycharm": {
          "name": "#%% md\n"
        },
        "id": "c874efd9"
      },
      "source": [
        "### Символьные вычисления\n",
        "\n",
        "Библиотека [`Sympy`](https://www.sympy.org/en/index.html) предоставляет инстументы для символьных вычислений\n"
      ]
    },
    {
      "cell_type": "code",
      "execution_count": null,
      "id": "9e692422",
      "metadata": {
        "pycharm": {
          "name": "#%%\n"
        },
        "id": "9e692422"
      },
      "outputs": [],
      "source": []
    },
    {
      "cell_type": "markdown",
      "id": "2d9afa40",
      "metadata": {
        "pycharm": {
          "name": "#%% md\n"
        },
        "id": "2d9afa40"
      },
      "source": [
        "### Задание\n",
        "\n",
        "Реализовать функцию `df`, используя операции `Numpy` и сравнить время вычислений с `dfn`"
      ]
    },
    {
      "cell_type": "code",
      "execution_count": null,
      "id": "74ec74f5",
      "metadata": {
        "pycharm": {
          "name": "#%%\n"
        },
        "id": "74ec74f5"
      },
      "outputs": [],
      "source": []
    }
  ],
  "metadata": {
    "kernelspec": {
      "display_name": "Python 3 (ipykernel)",
      "language": "python",
      "name": "python3"
    },
    "language_info": {
      "codemirror_mode": {
        "name": "ipython",
        "version": 3
      },
      "file_extension": ".py",
      "mimetype": "text/x-python",
      "name": "python",
      "nbconvert_exporter": "python",
      "pygments_lexer": "ipython3",
      "version": "3.9.12"
    },
    "colab": {
      "provenance": [],
      "include_colab_link": true
    }
  },
  "nbformat": 4,
  "nbformat_minor": 5
}