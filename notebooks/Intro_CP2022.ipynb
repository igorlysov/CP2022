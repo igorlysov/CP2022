{
  "cells": [
    {
      "cell_type": "markdown",
      "metadata": {
        "id": "view-in-github",
        "colab_type": "text"
      },
      "source": [
        "<a href=\"https://colab.research.google.com/github/igorlysov/CP2022/blob/main/notebooks/Intro_CP2022.ipynb\" target=\"_parent\"><img src=\"https://colab.research.google.com/assets/colab-badge.svg\" alt=\"Open In Colab\"/></a>"
      ]
    },
    {
      "cell_type": "markdown",
      "id": "06a89a5d",
      "metadata": {
        "pycharm": {
          "name": "#%% md\n"
        },
        "id": "06a89a5d"
      },
      "source": [
        "# Компьютерный практикум 2022-2023"
      ]
    },
    {
      "cell_type": "markdown",
      "id": "4892c7e1",
      "metadata": {
        "pycharm": {
          "name": "#%% md\n"
        },
        "id": "4892c7e1"
      },
      "source": [
        "## Семинар 1. Python для эффективных вычислений\n",
        "\n",
        "- Python - дирижер компилированного кода\n",
        "\n",
        "- Средства разработки: `PyCharm`, `Jupyter Notebook` / `Jupyter Lab`\n",
        "\n",
        "- Как создать быстрый код для решения задачи?\n",
        "\n",
        "- Массивы: `Numpy`\n",
        "    \n",
        "- Компиляция: `Numba`, `Cython`, `F2PY`, `C API`\n",
        "    \n",
        "- Измерение времени выполнения `timeit`\n",
        "    \n",
        "- Распараллеливание на одной машине: `Numba`, `joblib`, `dask`, `CuPy`\n",
        "    \n",
        "- Progress bar (контроль за ходом вычислений): `tqdm`\n",
        "\n",
        "- Визуализация: `matplotlib`\n",
        "\n",
        "- Численные методы `Scipy`\n",
        "\n",
        "- Символьные вычисления `Sympy`\n"
      ]
    },
    {
      "cell_type": "markdown",
      "id": "35b40103",
      "metadata": {
        "pycharm": {
          "name": "#%% md\n"
        },
        "id": "35b40103"
      },
      "source": [
        "## Оценивание\n",
        "\n",
        "- Итоговая оценка за курс выставляется по накопленной\n",
        "\n",
        "\n",
        "- Накопленная формируется из оценок за домашние задания $ДЗ_i$\n",
        "\n",
        "\n",
        "- Всего $4$ домашних задания, по одному в модуль\n",
        "\n",
        "\n",
        "- В домашние задания входит $2, 3, 2, 2$ задачи (возможны изменения)\n",
        "\n",
        "\n",
        "- **Важно! Задачи сложные и содержат большой объем расчетов!**\n",
        "\n",
        "\n",
        "- Накопленная оценка $НО = 0.13 \\cdot ДЗ_1 + 0.29 \\cdot ДЗ_2 + 0.29 \\cdot ДЗ_3 + 0.29 \\cdot ДЗ_4$\n",
        "\n",
        "\n",
        "- $ДЗ_i$ вычисляется для каждого задания по формулам, указанным в задании, по 100-балльной системе\n",
        "\n",
        "\n",
        "- $НО = 100$ эквивалентна итоговым $8.49$ баллам (по 10-балльной системе)\n",
        "\n",
        "\n",
        "- округление - арифметическое: $7.50 \\rightarrow 8.0$, $7.49 \\rightarrow 7.0$\n",
        "\n",
        "\n",
        "- $9$ и $10$ итоговых баллов можно получить за *исключительные заслуги*\n",
        "    - исключительные заслуги оговариваются индивидуально\n",
        "\n",
        "\n",
        "- **Внимание! Возможность переписать работу не предусмотрена**\n",
        "\n"
      ]
    },
    {
      "cell_type": "markdown",
      "id": "88ee5bae",
      "metadata": {
        "pycharm": {
          "name": "#%% md\n"
        },
        "id": "88ee5bae"
      },
      "source": [
        "## Список тем (возможны изменения)\n",
        "\n",
        "- Введение\n",
        "- `Numba` - трансляция и компиляция кода\n",
        "- `Numpy` - массивы и вычисления\n",
        "- Перенос тепла\n",
        "- Прокрустово преобразование, преобразование фурье\n",
        "- `VisPy` - визуализация на основе `OpenGL`\n",
        "- `Boids` - взаимодействие независимых агентов\n",
        "- `Shaders`, `SDF` - двумерная графика, функция расстояния до объекта со знаком\n",
        "- `Taichi` - библиотека для трансляции и компиляции кода на CPU/GPU\n",
        "- `Ray marching` - трехмерная графика\n",
        "- `Diagnosis` - задача о постановке диагноза\n",
        "- `Runge-Kutta`, `orbits` - интегрирование СОДУ, орбиты\n",
        "- `SPICE`, карты видимости\n"
      ]
    },
    {
      "cell_type": "markdown",
      "id": "c6158d46",
      "metadata": {
        "pycharm": {
          "name": "#%% md\n"
        },
        "id": "c6158d46"
      },
      "source": [
        "#### Установка модулей"
      ]
    },
    {
      "cell_type": "code",
      "execution_count": 1,
      "id": "0de2ed52",
      "metadata": {
        "pycharm": {
          "name": "#%%\n"
        },
        "colab": {
          "base_uri": "https://localhost:8080/"
        },
        "id": "0de2ed52",
        "outputId": "004d499c-3443-47a1-9b0e-c0cc10dc6304"
      },
      "outputs": [
        {
          "output_type": "stream",
          "name": "stdout",
          "text": [
            "Looking in indexes: https://pypi.org/simple, https://us-python.pkg.dev/colab-wheels/public/simple/\n",
            "Requirement already satisfied: numpy in /usr/local/lib/python3.7/dist-packages (1.21.6)\n",
            "Requirement already satisfied: scipy in /usr/local/lib/python3.7/dist-packages (1.7.3)\n",
            "Requirement already satisfied: matplotlib in /usr/local/lib/python3.7/dist-packages (3.2.2)\n",
            "Requirement already satisfied: numba in /usr/local/lib/python3.7/dist-packages (0.56.0)\n",
            "Requirement already satisfied: sympy in /usr/local/lib/python3.7/dist-packages (1.7.1)\n",
            "Requirement already satisfied: joblib in /usr/local/lib/python3.7/dist-packages (1.1.0)\n",
            "Requirement already satisfied: tqdm in /usr/local/lib/python3.7/dist-packages (4.64.0)\n",
            "Requirement already satisfied: pyparsing!=2.0.4,!=2.1.2,!=2.1.6,>=2.0.1 in /usr/local/lib/python3.7/dist-packages (from matplotlib) (3.0.9)\n",
            "Requirement already satisfied: python-dateutil>=2.1 in /usr/local/lib/python3.7/dist-packages (from matplotlib) (2.8.2)\n",
            "Requirement already satisfied: cycler>=0.10 in /usr/local/lib/python3.7/dist-packages (from matplotlib) (0.11.0)\n",
            "Requirement already satisfied: kiwisolver>=1.0.1 in /usr/local/lib/python3.7/dist-packages (from matplotlib) (1.4.4)\n",
            "Requirement already satisfied: typing-extensions in /usr/local/lib/python3.7/dist-packages (from kiwisolver>=1.0.1->matplotlib) (4.1.1)\n",
            "Requirement already satisfied: six>=1.5 in /usr/local/lib/python3.7/dist-packages (from python-dateutil>=2.1->matplotlib) (1.15.0)\n",
            "Requirement already satisfied: importlib-metadata in /usr/local/lib/python3.7/dist-packages (from numba) (4.12.0)\n",
            "Requirement already satisfied: llvmlite<0.40,>=0.39.0dev0 in /usr/local/lib/python3.7/dist-packages (from numba) (0.39.0)\n",
            "Requirement already satisfied: setuptools in /usr/local/lib/python3.7/dist-packages (from numba) (57.4.0)\n",
            "Requirement already satisfied: mpmath>=0.19 in /usr/local/lib/python3.7/dist-packages (from sympy) (1.2.1)\n",
            "Requirement already satisfied: zipp>=0.5 in /usr/local/lib/python3.7/dist-packages (from importlib-metadata->numba) (3.8.1)\n"
          ]
        }
      ],
      "source": [
        "!pip install --user numpy scipy matplotlib numba sympy joblib tqdm"
      ]
    },
    {
      "cell_type": "markdown",
      "id": "528cfea5",
      "metadata": {
        "pycharm": {
          "name": "#%% md\n"
        },
        "id": "528cfea5"
      },
      "source": [
        "### Python - дирижер компилированного кода\n",
        "\n",
        "Давайте взглянем на репозитории таких мощных модулей как:\n",
        "- [Numpy](https://github.com/numpy/numpy)\n",
        "- [Scipy](https://github.com/scipy/scipy)\n",
        "- [Tensorfow](https://github.com/tensorflow/tensorflow)\n",
        "\n",
        "В каждом из них заметная часть кода написана не на `Python`, а на `C`, `C++`, `Fortran`, `Cython` и/или использует такие мощные математические библиотеки как [`MKL`](https://en.wikipedia.org/wiki/Math_Kernel_Library).\n",
        "\n",
        "Б$\\acute{о}$льшая часть вычислений выполняется благодаря компилированному коду.\n",
        "\n",
        "Как правило, код `Python` в этих библиотеках нужен для гибкости, удобства и красоты, т.е. для той самой `магии`, благодаря которой многие любят и используют `Python`.\n",
        "\n",
        "*Схема работы инженера с такими модулями*:\n",
        "\n",
        "Инженер $\\rightarrow$ классный и удобный код `Python` $\\rightarrow$ тяжелая жизнь разработчиков библиотек $\\rightarrow$ компилированный код, правильно настроенный под задачу инженера $\\rightarrow$ быстрый расчет $\\rightarrow$ красивый результат в среде `Python` $\\rightarrow$ довольный инженер"
      ]
    },
    {
      "cell_type": "markdown",
      "id": "f6ed29a6",
      "metadata": {
        "pycharm": {
          "name": "#%% md\n"
        },
        "id": "f6ed29a6"
      },
      "source": [
        "### Пример"
      ]
    },
    {
      "cell_type": "code",
      "execution_count": 2,
      "id": "74447ab9",
      "metadata": {
        "colab": {
          "base_uri": "https://localhost:8080/"
        },
        "id": "74447ab9",
        "outputId": "f63f0bcc-cfe6-41cf-8deb-90f91bbb425b"
      },
      "outputs": [
        {
          "output_type": "execute_result",
          "data": {
            "text/plain": [
              "      fun: -23.24167623804531\n",
              " hess_inv: array([[0.0502478]])\n",
              "      jac: array([0.])\n",
              "  message: 'Optimization terminated successfully.'\n",
              "     nfev: 12\n",
              "      nit: 4\n",
              "     njev: 6\n",
              "   status: 0\n",
              "  success: True\n",
              "        x: array([-1.67096375])"
            ]
          },
          "metadata": {},
          "execution_count": 2
        }
      ],
      "source": [
        "from scipy import optimize\n",
        "import numpy as np \n",
        "\n",
        "def func(x):\n",
        "  return x*2 + 20*np.sin(x)\n",
        "\n",
        "r = optimize.minimize(func, 0, method='BFGS')\n",
        "r"
      ]
    },
    {
      "cell_type": "code",
      "source": [
        "import matplotlib.pyplot as plt\n",
        "\n",
        "x = np.linspace(-np.pi, np.pi)\n",
        "plt.plot(x, func(x))\n",
        "plt.plot(r.x, r.fun, 'r*')\n",
        "plt.show()"
      ],
      "metadata": {
        "colab": {
          "base_uri": "https://localhost:8080/",
          "height": 265
        },
        "id": "WPQ1VfDPD3Up",
        "outputId": "b4617e23-cf4b-40fc-cd7d-d86b605bd76c"
      },
      "id": "WPQ1VfDPD3Up",
      "execution_count": 10,
      "outputs": [
        {
          "output_type": "display_data",
          "data": {
            "text/plain": [
              "<Figure size 432x288 with 1 Axes>"
            ],
            "image/png": "[encoded data removed]"
          },
          "metadata": {
            "needs_background": "light"
          }
        }
      ]
    },
    {
      "cell_type": "markdown",
      "id": "34d44b70",
      "metadata": {
        "pycharm": {
          "name": "#%% md\n"
        },
        "id": "34d44b70"
      },
      "source": [
        "### Средства разработки\n",
        "\n",
        "- [`PyCharm`](https://www.jetbrains.com/community/education/#students) - мощная IDE, в которой есть практически всё, что нужно для разработки; для студентов доступна `Pro` версия бесплатно\n",
        "\n",
        "- [`Jupyter Notebook`](https://jupyter.org/) - удобная среда для работы с данными, интерактивной работы с кодом, хранения описания, кода и результатов в едином формате\n",
        "\n",
        "- [`Google Colab`](https://colab.research.google.com) - `Jupyter Notebook` в облаке с доступом к `GPU/TPU`; позволяет запускать код в облаке и не нагружать свой компьютер, но есть ограничения\n"
      ]
    },
    {
      "cell_type": "markdown",
      "id": "66b1dd00",
      "metadata": {
        "pycharm": {
          "name": "#%% md\n"
        },
        "id": "66b1dd00"
      },
      "source": [
        "### Как создать быстрый код для решения задачи?\n",
        "\n",
        "Постепенное приближение к результату:\n",
        "\n",
        "\n",
        "1. этап - **прототип**\n",
        "    1. прототип на `Python` (одна или несколько функций)\n",
        "    2. проверка корректности результатов расчетов на уменьшенной задаче (~ 1 минуты)\n",
        "\n",
        "\n",
        "2. этап - **последовательный компилированный код**\n",
        "    1. модификация или переписывание кода прототипа для компиляции\n",
        "    2. компиляция кода, основанного на прототипе\n",
        "    3. проверка корректности результатов расчетов на уменьшенной задаче (~ 1 минуты работы прототипа)\n",
        "    4. измерение времени работы компилированного кода - нужно ли еще ускорять?\n",
        "    5. обнаружение медленных мест и их устранение\n",
        "\n",
        "\n",
        "3. этап - **распараллеливание** (опциональный)\n",
        "    1. распараллеливание\n",
        "    2. сравнение результатов расчетов с последовательной версией или прототипом (~ 1 минуты работы последовательной версии или прототипа)\n",
        "\n",
        "\n",
        "4. этап - **предаврительные расчеты**\n",
        "    1. выполнение небольшой части расчетов (~5-10%)\n",
        "    2. контроль корректности результатов\n",
        "    3. модификация кода, позволяющая сохранять промежуточные результаты\n",
        "\n",
        "\n",
        "5. этап - **расчеты**\n",
        "    1. запуск вычислений в полном объёме\n",
        "    2. контроль корректности результатов\n",
        "    3. визуализация результатов"
      ]
    },
    {
      "cell_type": "markdown",
      "id": "394c43de",
      "metadata": {
        "pycharm": {
          "name": "#%% md\n"
        },
        "id": "394c43de"
      },
      "source": [
        "### Массивы Numpy\n",
        "\n",
        "Модуль `Numpy` позволяет эффективно работать с n-мерными массивами. Массивы `Numpy` организованы также, как и массивы в языке `C` и позволяют также быстро работать с ними.\n",
        "\n",
        "В `Numpy` реализовано:\n",
        "- создание и преобразование n-мерных массивов\n",
        "- множество типов элементов, например, `int8`, `uint64`, `float64` и др.\n",
        "- выбор элементов, срезы, маски\n",
        "- арифметические операции\n",
        "- агрегирующие операции\n",
        "- броадкастинг\n",
        "- сохранение/загрузка массивов в текстовом/бинарном формате\n",
        "- линейная алгебра\n",
        "- преобразование Фурье\n",
        "- и др."
      ]
    },
    {
      "cell_type": "markdown",
      "id": "da8f92a3",
      "metadata": {
        "pycharm": {
          "name": "#%% md\n"
        },
        "id": "da8f92a3"
      },
      "source": [
        "### Пример"
      ]
    },
    {
      "cell_type": "markdown",
      "id": "73ba4bef",
      "metadata": {
        "pycharm": {
          "name": "#%% md\n"
        },
        "id": "73ba4bef"
      },
      "source": [
        "[`Game of Life`](https://github.com/rougier/numpy-tutorial)\n",
        "\n",
        "The Game of Life, also known simply as Life, is a cellular automaton devised by the British mathematician John Horton Conway in 1970. It is the best-known example of a cellular automaton. The \"game\" is actually a zero-player game, meaning that its evolution is determined by its initial state, needing no input from human players. One interacts with the Game of Life by creating an initial configuration and observing how it evolves.\n",
        "\n",
        "The universe of the Game of Life is an infinite two-dimensional orthogonal grid of square cells, each of which is in one of two possible states, live or dead. Every cell interacts with its eight neighbours, which are the cells that are directly horizontally, vertically, or diagonally adjacent. At each step in time, the following transitions occur:\n",
        "\n",
        "- Any live cell with fewer than two live neighbours dies, as if by needs caused by underpopulation.\n",
        "\n",
        "- Any live cell with more than three live neighbours dies, as if by overcrowding.\n",
        "\n",
        "- Any live cell with two or three live neighbours lives, unchanged, to the next generation.\n",
        "\n",
        "- Any dead cell with exactly three live neighbours becomes a live cell.\n"
      ]
    },
    {
      "cell_type": "code",
      "execution_count": 43,
      "id": "df8273de",
      "metadata": {
        "pycharm": {
          "name": "#%%\n"
        },
        "id": "df8273de"
      },
      "outputs": [],
      "source": [
        "Zarr = np.random.randint(0, 2, (120, 256))\n",
        "Zarr[:,[0, -1]] = 0\n",
        "Zarr[[0, -1]] = 0"
      ]
    },
    {
      "cell_type": "code",
      "source": [
        "## подход с классическким Python\n",
        "def compute_neighbours(Z):\n",
        "  rows, cols = len(Z), len(Z[0])\n",
        "  N = [[0 for y in range(cols)] for x in range(rows)]\n",
        "  for x in range(1, rows-1):\n",
        "    for y in range(1, cols-1):\n",
        "      N[x][y] = Z[x-1][y-1] + Z[x-1][y] + Z[x-1][y+1] + Z[x][y-1] + Z[x][y+1] + Z[x+1][y-1] + Z[x+1][y] + Z[x+1][y+1]\n",
        "  return N\n",
        "\n",
        "def iterate(Z):\n",
        "  rows, cols = len(Z), len(Z[0])\n",
        "  N = compute_neighbours(Z)\n",
        "  for x in range(1, rows-1):\n",
        "    for y in range(1, cols-1):\n",
        "      if Z[x][y] == 1 and (N[x][y] == 2 or N[x][y] == 3):\n",
        "        Z[x][y] == 1\n",
        "      elif Z[x][y] == 0 and N[x][y] == 3:\n",
        "        Z[x][y] == 1\n",
        "      else:\n",
        "        Z[x][y] == 0\n",
        "  return Z"
      ],
      "metadata": {
        "id": "hx8M7Y3RHU31"
      },
      "id": "hx8M7Y3RHU31",
      "execution_count": 44,
      "outputs": []
    },
    {
      "cell_type": "code",
      "source": [
        "## подход с Numpy\n",
        "def iterate_numpy(Z):\n",
        "  N = (Z[0:-2, 0:-2] + Z[0:-2, 1:-1] + Z[0:-2, 2:] + Z[1:-1, 0:-2] + Z[1:-1, 2:] + Z[2:, 0:-2] + Z[2:, 1:-1] + Z[2:, 2:])\n",
        "  N3 = N==3\n",
        "  birth = N3 & (Z[1:-1, 1:-1]==0)\n",
        "  survive = ((N==2)|N3) & (Z[1:-1, 1:-1]==1)\n",
        "  Z[...] = 0\n",
        "  Z[1:-1, 1:-1][birth|survive] = 1\n",
        "  return Z"
      ],
      "metadata": {
        "id": "eO41rF6OJhqP"
      },
      "id": "eO41rF6OJhqP",
      "execution_count": 15,
      "outputs": []
    },
    {
      "cell_type": "code",
      "source": [
        "Zlst = Zarr.copy()\n",
        "for i in range(100):\n",
        "  Zlst = iterate(Zlst)"
      ],
      "metadata": {
        "id": "bbUvhebTLRdH"
      },
      "id": "bbUvhebTLRdH",
      "execution_count": 62,
      "outputs": []
    },
    {
      "cell_type": "code",
      "source": [
        "Z = Zarr.copy()\n",
        "for i in range(100):\n",
        " Z = iterate_numpy(Z)"
      ],
      "metadata": {
        "id": "M92ncBFwL0Kv"
      },
      "id": "M92ncBFwL0Kv",
      "execution_count": 51,
      "outputs": []
    },
    {
      "cell_type": "code",
      "source": [
        "Z"
      ],
      "metadata": {
        "colab": {
          "base_uri": "https://localhost:8080/"
        },
        "id": "QvlnHITNMuhE",
        "outputId": "8bca0474-76e0-4b59-c393-a12d1f028481"
      },
      "id": "QvlnHITNMuhE",
      "execution_count": 27,
      "outputs": [
        {
          "output_type": "execute_result",
          "data": {
            "text/plain": [
              "array([[0, 0, 0, ..., 0, 0, 0],\n",
              "       [0, 0, 0, ..., 0, 0, 0],\n",
              "       [0, 0, 0, ..., 0, 0, 0],\n",
              "       ...,\n",
              "       [0, 0, 1, ..., 0, 0, 0],\n",
              "       [0, 0, 1, ..., 0, 0, 0],\n",
              "       [0, 0, 0, ..., 0, 0, 0]])"
            ]
          },
          "metadata": {},
          "execution_count": 27
        }
      ]
    },
    {
      "cell_type": "code",
      "source": [
        "plt.figure()\n",
        "plt.matshow(Zlst)\n",
        "plt.title('Classic')\n",
        "plt.matshow(Z)\n",
        "plt.title('Numpy')"
      ],
      "metadata": {
        "colab": {
          "base_uri": "https://localhost:8080/",
          "height": 588
        },
        "id": "8wJltGDtMSPW",
        "outputId": "df18ef6e-ff72-45b7-d71b-5ab3dfc9882d"
      },
      "id": "8wJltGDtMSPW",
      "execution_count": 63,
      "outputs": [
        {
          "output_type": "execute_result",
          "data": {
            "text/plain": [
              "Text(0.5, 1.05, 'Numpy')"
            ]
          },
          "metadata": {},
          "execution_count": 63
        },
        {
          "output_type": "display_data",
          "data": {
            "text/plain": [
              "<Figure size 432x288 with 0 Axes>"
            ]
          },
          "metadata": {}
        },
        {
          "output_type": "display_data",
          "data": {
            "text/plain": [
              "<Figure size 614.4x288 with 1 Axes>"
            ],
            "image/png": "[encoded data removed]"
          },
          "metadata": {
            "needs_background": "light"
          }
        },
        {
          "output_type": "display_data",
          "data": {
            "text/plain": [
              "<Figure size 614.4x288 with 1 Axes>"
            ],
            "image/png": "[encoded data removed]"
          },
          "metadata": {
            "needs_background": "light"
          }
        }
      ]
    },
    {
      "cell_type": "markdown",
      "id": "e089f81e",
      "metadata": {
        "pycharm": {
          "name": "#%% md\n"
        },
        "id": "e089f81e"
      },
      "source": [
        "### Компиляция: **Numba**, Cython, F2PY, C API\n",
        "\n",
        "Существуют различные подходы для получения быстрого кода для работы с ним в `Python`:\n",
        "\n",
        "- [`Numba`](http://numba.pydata.org/) - just-in-time компилятор, позволяет писать на `Python` с использованием `Numpy`, а затем компилирует код как если бы он был написан на `C` с использованием математических библиотек\n",
        "\n",
        "- [`Cython`](https://cython.org/) - диалект `Python`, позволяющий смешивать `Python` и `C` в одном коде и точно контролировать все нюансы. Специалист по `Cython` в МИЭМ - [Буровский Евгений Андреевич](https://www.hse.ru/org/persons/190080844)\n",
        "\n",
        "- [`F2PY`](https://numpy.org/doc/stable/f2py/) - утилита, являющаяся частью `Numpy` и позволяющая создать интерфейс к `Python` для кода, написанного на `Fortran`\n",
        "\n",
        "- [`C API`](https://docs.python.org/3/c-api/index.html) - интерпретатор `CPython`, с которым мы работаем, поддерживает интерфейс с языком `C`. Т.е. можно писать и компилировать функции на языке `C`, а потом вручную создавать для них интерфейс к `Python`\n",
        "\n",
        "- и др.\n",
        "\n",
        "Мы будем использовать `Numba`, т.к. это позволит в большинстве случаев очень быстро и достаточно просто создавать эффективный код."
      ]
    },
    {
      "cell_type": "markdown",
      "id": "b1630fb9",
      "metadata": {
        "pycharm": {
          "name": "#%% md\n"
        },
        "id": "b1630fb9"
      },
      "source": [
        "### Пример"
      ]
    },
    {
      "cell_type": "code",
      "execution_count": 33,
      "id": "2352dd05",
      "metadata": {
        "pycharm": {
          "name": "#%%\n"
        },
        "id": "2352dd05"
      },
      "outputs": [],
      "source": [
        "from numba import njit\n",
        "\n",
        "def rms(lst):\n",
        "  r = 0\n",
        "  n = len(lst)\n",
        "  for i in range(n):\n",
        "    r += lst[i] ** 2\n",
        "  return (r / n) ** 0.5\n",
        "\n",
        "@njit\n",
        "def rms_jit(lst):\n",
        "  return np.sqrt(np.mean(arr ** 2))\n"
      ]
    },
    {
      "cell_type": "code",
      "source": [
        "arr = np.arange(1e6)\n",
        "lst = arr.tolist()"
      ],
      "metadata": {
        "id": "WSbGhQQMOOnR"
      },
      "id": "WSbGhQQMOOnR",
      "execution_count": 34,
      "outputs": []
    },
    {
      "cell_type": "code",
      "source": [
        "rms(lst)"
      ],
      "metadata": {
        "colab": {
          "base_uri": "https://localhost:8080/"
        },
        "id": "OpTeEFlMO5Mn",
        "outputId": "32ef4826-79fa-4d55-d798-b25ead01d171"
      },
      "id": "OpTeEFlMO5Mn",
      "execution_count": 39,
      "outputs": [
        {
          "output_type": "execute_result",
          "data": {
            "text/plain": [
              "577349.8361765833"
            ]
          },
          "metadata": {},
          "execution_count": 39
        }
      ]
    },
    {
      "cell_type": "code",
      "source": [
        "rms_jit(lst)"
      ],
      "metadata": {
        "colab": {
          "base_uri": "https://localhost:8080/"
        },
        "id": "eMKv06cJPAT6",
        "outputId": "159a9b93-0d8c-44ce-d673-fdf1c8467b87"
      },
      "id": "eMKv06cJPAT6",
      "execution_count": 40,
      "outputs": [
        {
          "output_type": "stream",
          "name": "stderr",
          "text": [
            "/usr/local/lib/python3.7/dist-packages/numba/core/ir_utils.py:2147: NumbaPendingDeprecationWarning: \n",
            "Encountered the use of a type that is scheduled for deprecation: type 'reflected list' found for argument 'lst' of function 'rms_jit'.\n",
            "\n",
            "For more information visit https://numba.readthedocs.io/en/stable/reference/deprecation.html#deprecation-of-reflection-for-list-and-set-types\n",
            "\n",
            "File \"<ipython-input-33-a08e11e355f1>\", line 11:\n",
            "@njit\n",
            "def rms_jit(lst):\n",
            "^\n",
            "\n",
            "  warnings.warn(NumbaPendingDeprecationWarning(msg, loc=loc))\n"
          ]
        },
        {
          "output_type": "execute_result",
          "data": {
            "text/plain": [
              "577349.8361765833"
            ]
          },
          "metadata": {},
          "execution_count": 40
        }
      ]
    },
    {
      "cell_type": "markdown",
      "id": "b75e40a7",
      "metadata": {
        "pycharm": {
          "name": "#%% md\n"
        },
        "id": "b75e40a7"
      },
      "source": [
        "### Измерение времени выполнения\n",
        "\n",
        "- `time`\n",
        "- `timeit`\n",
        "- %%timeit, %timeit, %%time, %time\n",
        "- profilers"
      ]
    },
    {
      "cell_type": "markdown",
      "id": "8b21ac0e",
      "metadata": {
        "pycharm": {
          "name": "#%% md\n"
        },
        "id": "8b21ac0e"
      },
      "source": [
        "#### Однократное измерение"
      ]
    },
    {
      "cell_type": "code",
      "execution_count": 45,
      "id": "405617f6",
      "metadata": {
        "pycharm": {
          "name": "#%%\n"
        },
        "id": "405617f6"
      },
      "outputs": [],
      "source": [
        "from time import time"
      ]
    },
    {
      "cell_type": "code",
      "source": [
        "t = time()\n",
        "rms(arr)\n",
        "print(time() - t, 's')"
      ],
      "metadata": {
        "colab": {
          "base_uri": "https://localhost:8080/"
        },
        "id": "ZTsx0i55PjCt",
        "outputId": "a565e2f0-9960-49f2-f7ed-b1db8f5bd985"
      },
      "id": "ZTsx0i55PjCt",
      "execution_count": 46,
      "outputs": [
        {
          "output_type": "stream",
          "name": "stdout",
          "text": [
            "0.42930102348327637 s\n"
          ]
        }
      ]
    },
    {
      "cell_type": "code",
      "source": [
        "t = time()\n",
        "rms_jit(arr)\n",
        "print(time() - t, 's')"
      ],
      "metadata": {
        "colab": {
          "base_uri": "https://localhost:8080/"
        },
        "id": "QnUh7Ka2Pu9w",
        "outputId": "f6e6c287-5924-4ef8-b3cd-5ee818ea97da"
      },
      "id": "QnUh7Ka2Pu9w",
      "execution_count": 47,
      "outputs": [
        {
          "output_type": "stream",
          "name": "stdout",
          "text": [
            "0.14891839027404785 s\n"
          ]
        }
      ]
    },
    {
      "cell_type": "markdown",
      "id": "0b57bb92",
      "metadata": {
        "pycharm": {
          "name": "#%% md\n"
        },
        "id": "0b57bb92"
      },
      "source": [
        "#### Многократное измерение"
      ]
    },
    {
      "cell_type": "code",
      "execution_count": 53,
      "id": "0b9dfd28",
      "metadata": {
        "pycharm": {
          "name": "#%%\n"
        },
        "id": "0b9dfd28"
      },
      "outputs": [],
      "source": [
        "from timeit import timeit"
      ]
    },
    {
      "cell_type": "code",
      "source": [
        "n = 10\n",
        "timeit('rms_jit(arr)', number=n, globals=globals()) / n"
      ],
      "metadata": {
        "colab": {
          "base_uri": "https://localhost:8080/"
        },
        "id": "-FI2VlxxQXcP",
        "outputId": "664fdf04-064e-495a-ba47-16ffd3bee8bf"
      },
      "id": "-FI2VlxxQXcP",
      "execution_count": 54,
      "outputs": [
        {
          "output_type": "execute_result",
          "data": {
            "text/plain": [
              "0.004158884999969814"
            ]
          },
          "metadata": {},
          "execution_count": 54
        }
      ]
    },
    {
      "cell_type": "markdown",
      "id": "402fcc64",
      "metadata": {
        "pycharm": {
          "name": "#%% md\n"
        },
        "id": "402fcc64"
      },
      "source": [
        "#### IPython `%magic`"
      ]
    },
    {
      "cell_type": "code",
      "execution_count": 55,
      "id": "9acba39a",
      "metadata": {
        "pycharm": {
          "name": "#%%\n"
        },
        "colab": {
          "base_uri": "https://localhost:8080/"
        },
        "id": "9acba39a",
        "outputId": "4628aab5-5148-4a6e-dee3-24d8b12210c8"
      },
      "outputs": [
        {
          "output_type": "stream",
          "name": "stdout",
          "text": [
            "3.42 ms ± 181 µs per loop (mean ± std. dev. of 7 runs, 100 loops each)\n"
          ]
        }
      ],
      "source": [
        "%%timeit\n",
        "rms_jit(arr)"
      ]
    },
    {
      "cell_type": "code",
      "source": [
        "%%time \n",
        "rms(arr)"
      ],
      "metadata": {
        "colab": {
          "base_uri": "https://localhost:8080/"
        },
        "id": "Np27kEHNQ2YI",
        "outputId": "a02144f4-9659-43fb-f627-c679e7d353bc"
      },
      "id": "Np27kEHNQ2YI",
      "execution_count": 56,
      "outputs": [
        {
          "output_type": "stream",
          "name": "stdout",
          "text": [
            "CPU times: user 767 ms, sys: 1.77 ms, total: 769 ms\n",
            "Wall time: 1.23 s\n"
          ]
        },
        {
          "output_type": "execute_result",
          "data": {
            "text/plain": [
              "577349.8361765833"
            ]
          },
          "metadata": {},
          "execution_count": 56
        }
      ]
    },
    {
      "cell_type": "markdown",
      "id": "1c898137",
      "metadata": {
        "pycharm": {
          "name": "#%% md\n"
        },
        "id": "1c898137"
      },
      "source": [
        "### Распараллеливание на одной машине: Numba, joblib, dask\n",
        "\n",
        "- [`Numba`]() позволяет автоматически:\n",
        "    - распараллеливать циклы с независимыми итерациями, иногда со слабо зависимыми (только threads)\n",
        "    - использует инструкции SSE, AVX для SIMD-распараллеливания\n",
        "    \n",
        "- [`joblib`](https://joblib.readthedocs.io/en/latest/) позволяет:\n",
        "    - распараллеливать вычисления на уровне отдельных задач (`task farming`)\n",
        "    - использует потоки или процессы\n",
        "    \n",
        "- [`dask`](https://dask.org/) позволяет:\n",
        "    - распараллеливать `Numpy`-вычисления (алгоритмы на многомерных массивах)\n",
        "    - распараллеливать как локально, так и на кластер\n",
        "    - обрабатывать большие массивы данных, не загружая их полностью в ОЗУ\n",
        "    \n",
        "- [`CuPy`](https://docs.cupy.dev/en/stable/index.html):\n",
        "    - мимикрирует под `Numpy`\n",
        "    - позволяет выполнять вычисления на `GPU`\n",
        "    - писать пользовательские ядра на `Python` и `C`"
      ]
    },
    {
      "cell_type": "markdown",
      "id": "3efce508",
      "metadata": {
        "pycharm": {
          "name": "#%% md\n"
        },
        "id": "3efce508"
      },
      "source": [
        "### Пример"
      ]
    },
    {
      "cell_type": "code",
      "source": [
        "from joblib import Parallel, delayed"
      ],
      "metadata": {
        "id": "HhY1CBibQ9Sa"
      },
      "id": "HhY1CBibQ9Sa",
      "execution_count": 57,
      "outputs": []
    },
    {
      "cell_type": "code",
      "source": [
        "@delayed\n",
        "def calc(data):\n",
        "  print('real calculation')\n",
        "  return np.linalg.svd(data)"
      ],
      "metadata": {
        "id": "PIqr40l-RHLI"
      },
      "id": "PIqr40l-RHLI",
      "execution_count": 58,
      "outputs": []
    },
    {
      "cell_type": "code",
      "source": [
        "arr = np.random.rand(50, 1000, 1000)"
      ],
      "metadata": {
        "id": "40v_bOoNRVyu"
      },
      "id": "40v_bOoNRVyu",
      "execution_count": 59,
      "outputs": []
    },
    {
      "cell_type": "code",
      "source": [
        "result = Parallel(n_jobs=4, verbose=1)(calc(x) for x in arr)"
      ],
      "metadata": {
        "colab": {
          "base_uri": "https://localhost:8080/"
        },
        "id": "c3gn1M_DRewk",
        "outputId": "b553ecff-a5dc-44c6-d320-9397f33a85b1"
      },
      "id": "c3gn1M_DRewk",
      "execution_count": 60,
      "outputs": [
        {
          "output_type": "stream",
          "name": "stderr",
          "text": [
            "[Parallel(n_jobs=4)]: Using backend LokyBackend with 4 concurrent workers.\n",
            "[Parallel(n_jobs=4)]: Done  42 tasks      | elapsed:   33.8s\n",
            "[Parallel(n_jobs=4)]: Done  50 out of  50 | elapsed:   38.1s finished\n"
          ]
        }
      ]
    },
    {
      "cell_type": "code",
      "source": [
        "del arr"
      ],
      "metadata": {
        "id": "fIlcURwgSM4k"
      },
      "id": "fIlcURwgSM4k",
      "execution_count": 61,
      "outputs": []
    },
    {
      "cell_type": "markdown",
      "id": "4e31bf1b",
      "metadata": {
        "pycharm": {
          "name": "#%% md\n"
        },
        "id": "4e31bf1b"
      },
      "source": [
        "### Progress bar (контроль за ходом вычислений)\n",
        "\n",
        "Различные инструменты описаны в хорошем обзоре: [Отслеживаем прогресс выполнения в Python](https://habr.com/ru/post/483400/)\n",
        "\n",
        "Рассмотрим два варианта:\n",
        "- вывод номера итерации - не требует никаких специальных инструментов\n",
        "- модуль `tqdm` - очень прострой в использовании и универсальный"
      ]
    },
    {
      "cell_type": "markdown",
      "id": "cbd98149",
      "metadata": {
        "pycharm": {
          "name": "#%% md\n"
        },
        "id": "cbd98149"
      },
      "source": [
        "### Численные методы\n",
        "\n",
        "Библиотека [`Scipy`](https://docs.scipy.org/doc/scipy/reference/tutorial/index.html#user-guide) предоставляет множество готовых эффективных алгоритмов численных методов:\n",
        "- интегрирование, в том числе ОДУ\n",
        "- оптимизация\n",
        "- интерполяция\n",
        "- преобразование Фурье\n",
        "- обработка сигналов\n",
        "- линейная алгебра\n",
        "- разреженные матрицы\n",
        "- статистика\n",
        "- и др."
      ]
    },
    {
      "cell_type": "markdown",
      "id": "915d78a5",
      "metadata": {
        "pycharm": {
          "name": "#%% md\n"
        },
        "id": "915d78a5"
      },
      "source": [
        "### Пример"
      ]
    },
    {
      "cell_type": "markdown",
      "id": "ba9e9a78",
      "metadata": {
        "pycharm": {
          "name": "#%% md\n"
        },
        "id": "ba9e9a78"
      },
      "source": [
        "[Примеры ядер свертки](https://robocraft.ru/blog/computervision/427.html)\n",
        "\n",
        "[Типы ядер свертки](https://www.machinelearningmastery.ru/types-of-convolution-kernels-simplified-f040cb307c37/)"
      ]
    },
    {
      "cell_type": "code",
      "execution_count": null,
      "id": "66e54e70",
      "metadata": {
        "pycharm": {
          "name": "#%%\n"
        },
        "id": "66e54e70"
      },
      "outputs": [],
      "source": []
    },
    {
      "cell_type": "markdown",
      "id": "a81344d8",
      "metadata": {
        "pycharm": {
          "name": "#%% md\n"
        },
        "id": "a81344d8"
      },
      "source": [
        "### Задание\n",
        "\n",
        "Применить другие ядра и визуализировать результат"
      ]
    },
    {
      "cell_type": "code",
      "execution_count": null,
      "id": "1edc1dbb",
      "metadata": {
        "pycharm": {
          "name": "#%%\n"
        },
        "id": "1edc1dbb"
      },
      "outputs": [],
      "source": []
    },
    {
      "cell_type": "markdown",
      "id": "c874efd9",
      "metadata": {
        "pycharm": {
          "name": "#%% md\n"
        },
        "id": "c874efd9"
      },
      "source": [
        "### Символьные вычисления\n",
        "\n",
        "Библиотека [`Sympy`](https://www.sympy.org/en/index.html) предоставляет инстументы для символьных вычислений\n"
      ]
    },
    {
      "cell_type": "code",
      "execution_count": null,
      "id": "9e692422",
      "metadata": {
        "pycharm": {
          "name": "#%%\n"
        },
        "id": "9e692422"
      },
      "outputs": [],
      "source": []
    },
    {
      "cell_type": "markdown",
      "id": "2d9afa40",
      "metadata": {
        "pycharm": {
          "name": "#%% md\n"
        },
        "id": "2d9afa40"
      },
      "source": [
        "### Задание\n",
        "\n",
        "Реализовать функцию `df`, используя операции `Numpy` и сравнить время вычислений с `dfn`"
      ]
    },
    {
      "cell_type": "code",
      "execution_count": null,
      "id": "74ec74f5",
      "metadata": {
        "pycharm": {
          "name": "#%%\n"
        },
        "id": "74ec74f5"
      },
      "outputs": [],
      "source": []
    }
  ],
  "metadata": {
    "kernelspec": {
      "display_name": "Python 3 (ipykernel)",
      "language": "python",
      "name": "python3"
    },
    "language_info": {
      "codemirror_mode": {
        "name": "ipython",
        "version": 3
      },
      "file_extension": ".py",
      "mimetype": "text/x-python",
      "name": "python",
      "nbconvert_exporter": "python",
      "pygments_lexer": "ipython3",
      "version": "3.9.12"
    },
    "colab": {
      "provenance": [],
      "include_colab_link": true
    }
  },
  "nbformat": 4,
  "nbformat_minor": 5
}