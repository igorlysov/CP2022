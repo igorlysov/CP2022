{
 "cells": [
  {
   "cell_type": "markdown",
   "id": "80dd8691",
   "metadata": {
    "cellId": "m16xeako9i8kipje36frj",
    "execution_id": "2b0292a6-4120-49c8-b22c-b9a7d6c61c88"
   },
   "source": [
    "# Энергия ферромагнетика (2D)\n",
    "### Условие задачи\n",
    "\n",
    "**Дано:**\n",
    "- двумерная решетка молекул, расположенных в узлах кристаллической решетки, размеров $L_x \\times L_y$ с периодическими границами\n",
    "- каждая молекула обладает спином +1 или -1\n",
    "- межмолекулярное взаимодействие описывается константами $J_{ij} = 1$\n",
    "- модель Изинга\n",
    "\n",
    "\n",
    "**Требуется:**\n",
    "- согласно модели Изинга рассчитать среднюю энергию $\\langle E \\rangle$ для указанной цепочки молекул при:\n",
    "    - размерах решетки $L_x \\in [2, 3, ..., 8]$, $L_y = 4$\n",
    "    - температурах $kT \\in [1, 1.1, ..., 5.0]$\n",
    "- сохранить массив средних энергий при помощи `np.save`\n",
    "- вывести время расчета каждой итерации по $Lx$ или по $k T$\n",
    "- отобразить цветовую карту:\n",
    "    - ось абсцисс - $L_x$,\n",
    "    - ось ординат - $k T$,\n",
    "    - цветом отобразить нормированное значение средней энергии $\\frac{\\langle E \\rangle}{Lx Ly}$,\n",
    "    - подписать оси,\n",
    "    - отобразить цветовую шкалу (`colorbar`),\n",
    "    - засечки должны соответствовать значениям $Lx, kT$.\n",
    "- к каждой функции добавить `docstring` с описанием того, что функция делает, всех параметров и возвращаемого значения    \n",
    "\n",
    "**Описание:**\n",
    "\n",
    "**Одномерный случай**\n",
    "\n",
    "Модель Изинга является моделью магнетика. Пусть этот магнетик состоит из молекул, расположенных в узлах регулярной решетки. Пусть всего таких узлов будет $N$ штук, с индексами $i=1,\\ldots, N$.\n",
    "\n",
    "Предположим, что каждая молекула может быть представлена в виде магнитной стрелки, которая всегда либо направлена вдоль некоторой заданной оси, либо в противоположном направлении. То есть каждая молекула $i$ имеет две конфигурации, которые можно описывать с помощью \"спиновой\" переменной $\\sigma_i$. Эта переменная принимает значение $+1$ (параллельно оси, спин направлен вверх) и $-1$ (антипараллельно оси, спин направлен вниз).\n",
    "\n",
    "Пусть $\\sigma = \\{\\sigma_1, \\sigma_2, \\ldots, \\sigma_N\\}$ обозначает набор значений всех $N$ спинов. Имеется $2^N$ различных наборов $\\sigma$, и каждый из них описывает некоторое состояние системы. \n",
    "\n",
    "Гамильтониан системы  состоит из двух частей: первая $E_0$ включает вклад межмолекулярных сил внутри магнетика, а вторая $E_1(\\sigma)$ вклад от взаимодействий каждого спина с внешним магнитным полем (здесь считается нулевым). \n",
    "$$H(\\sigma)=E_0(\\sigma)+E_1(\\sigma)$$\n",
    "\n",
    "В любой физической системе мы предполагаем все взаимодействия инвариантными по отношению к обращению времени, что означает инвариантность $E$ при изменении знаков всех полей и намагниченностей. Энергия должна быть четной функцией от $\\sigma$:\n",
    "$$E_0(\\sigma_1,\\ldots, \\sigma_N)=E_0(-\\sigma_1,\\ldots, -\\sigma_N)$$\n",
    "\n",
    "Энергия системы при нулевом внешнем магнитном поле равна сумме произведений **соседних** спинов на константы взаимодействия $J_{ij}$\n",
    "$$E(\\sigma) = -\\sum_{i} J_{i,i+1}\\sigma_{i}\\sigma_{i+1} $$\n",
    "\n",
    "Вероятность находиться в состоянии $\\sigma$\n",
    "$$P(\\sigma)=\\frac{e^{-\\beta E(\\sigma)}}{Z},$$\n",
    "\tгде $Z = \\sum_{\\sigma} e^{-\\beta E(\\sigma)}-$ статистическая сумма, $\\beta = \\frac{1}{k T}-$ обратная температура, $k-$ константа Больцмана.\n",
    "\t\n",
    "Средняя энергия системы \n",
    "$$\\langle E \\rangle = \\frac{1}{Z}\\sum_{\\{\\sigma \\}} E(\\sigma)e^{-\\frac{E(\\sigma)}{kT}}$$\n",
    "рассчитывается по всевозможным состояниям системы, т.е. всевозможным наборам $\\sigma$.\n",
    "\n",
    "**Двумерный случай**\n",
    "\n",
    "В случае двумерной решетки энергия системы при нулевом внешнем магнитном поле вычисляется следующим образом: \n",
    "$$E(\\sigma) = -\\sum_{i,j} J_{ij}(\\sigma_{i,j}\\sigma_{i+1,j} + \\sigma_{i,j}\\sigma_{i,j+1})$$\n",
    "\n",
    "**Правила оценивания:**\n",
    "\n",
    "- оценка за корректно выполненный расчет для количества молекул в цепочке $L_x$, баллов из 100:\n",
    "```\n",
    "    Lx    =   2,   3,   4,   5,    6,    7,     8\n",
    "    g(Lx) = 1.0, 1.8, 3.3, 6.4, 12.6, 24.9,  50.0\n",
    "```\n",
    "    \n",
    "- штрафы $p(i)$, баллов:\n",
    "    - не выведено время расчета - 20\n",
    "    - не выведены значения средней энергии - 20\n",
    "    - не построена карта - 20\n",
    "    - отсутствует `docstring` - 20\n",
    "    - менее значимые недоработки - 10\n",
    "\n",
    "\n",
    "- итоговая оценка за задание = $\\sum_{Lx=2}^{8}{g(Lx)} - \\sum_{i}{p(i)}$"
   ]
  },
  {
   "cell_type": "markdown",
   "id": "224debc7",
   "metadata": {
    "cellId": "z9w8gknyj22l8o8h24s2",
    "execution_id": "fbac4c5a-4218-4d04-9147-038f57a78e31"
   },
   "source": [
    "**Всё задание вкратце...**\n",
    "\n",
    "<center>\n",
    "    <img src='https://drive.google.com/uc?id=1zZY58yI0XZ4zm-phbhlq6kX7fIcGBhNN' width=\"500\"/>\n",
    "</center>"
   ]
  },
  {
   "cell_type": "code",
   "execution_count": 97,
   "id": "99d2f98d",
   "metadata": {
    "cellId": "5dke4z9d8yrui7vk54w1xk"
   },
   "outputs": [],
   "source": [
    "#!c1.32\n",
    "import numpy as np \n",
    "import numba\n",
    "from numba import jit, njit, cuda\n",
    "from tqdm.notebook import trange\n",
    "from tqdm import tqdm\n",
    "from time import time "
   ]
  },
  {
   "cell_type": "code",
   "execution_count": 98,
   "id": "8fb69fa6",
   "metadata": {
    "cellId": "6zox8afn32jqtgxosoq5e"
   },
   "outputs": [],
   "source": [
    "#!c1.32\n",
    "L_x = [2, 3, 4, 5, 6, 7, 8]\n",
    "L_y = 4\n",
    "kT = np.arange(start=1.0, stop=5.1, step=0.1)"
   ]
  },
  {
   "cell_type": "markdown",
   "id": "f5f4450f",
   "metadata": {
    "cellId": "8dalsnfge1pa204ns6gihk",
    "execution_id": "59a28499-d8df-41de-9333-e02863223562"
   },
   "source": [
    "**Важное пояснение**: опытным путем было замечено, что, если выполнять всё в одной функции, то это дает ускорение применерно раз в 7. Далее есть версия решения и в одну функцию (с помощью которой и считалось всё в итоге), и разбитое на несколько функций по смысловым блокам\n"
   ]
  },
  {
   "cell_type": "code",
   "execution_count": 91,
   "id": "498610bc",
   "metadata": {
    "cellId": "fvt4ympp5q36d7lx25pux"
   },
   "outputs": [],
   "source": [
    "#!c1.32\n",
    "@njit(parallel=True, fastmath=True)\n",
    "def IsingEnergy(L_x, L_y, kT):\n",
    "    '''\n",
    "    Функция, которая симулирует модель Изинга для заданной решетки молекул \n",
    "    размера (L_x * L_y) и некоторого значения температуры kT\n",
    "    ------------------------------------------------------------------------------\n",
    "\n",
    "    Аргументы:\n",
    "        L_x: размер решетки молекул по x\n",
    "        L_y: размер решетки молекул по y\n",
    "        kT: параметр температуры \n",
    "    ------------------------------------------------------------------------------\n",
    "\n",
    "    Возвращаемое значение: средняя энергия системы с заданными параметрами\n",
    "    '''\n",
    "    \n",
    "    Z = 0.0\n",
    "    mean_energy = 0.0\n",
    "    \n",
    "    for i_ in numba.prange(2**(L_x * L_y)):\n",
    "        i = numba.int64(i_)\n",
    "        spin = np.empty(L_x * L_y, dtype=np.int8)\n",
    "        for cell in range(L_x * L_y):\n",
    "            if i & 1 == 0: \n",
    "                spin[cell] = -1\n",
    "            else:\n",
    "                spin[cell] = 1\n",
    "            i = i >> 1\n",
    "        spin = spin.reshape(L_x, L_y)\n",
    "    \n",
    "        energy = 0\n",
    "        for i in range(L_x):\n",
    "            for j in range(L_y):\n",
    "                energy += (-1) * spin[i, j] * (spin[(i + 1) % L_x, j] + spin[i, (j + 1) % L_y])\n",
    "    \n",
    "        Z += np.e ** ((-1) * energy / kT)\n",
    "        mean_energy += energy * np.e ** ((-1) * energy / kT)\n",
    "    return (mean_energy / Z) * (1 / (L_x * L_y))"
   ]
  },
  {
   "cell_type": "code",
   "execution_count": 92,
   "id": "c12d1ece",
   "metadata": {
    "cellId": "f1q7q0nizp943ydx2u9k3b"
   },
   "outputs": [],
   "source": [
    "#!c1.32\n",
    "def SystemCalculations(L_X, L_Y, kT):\n",
    "    '''\n",
    "    Функция, которая производит общет моделей Изинга для всех возможных\n",
    "    параметров L_x и kT, замеряя время и сохраняя результаты в файл\n",
    "    ------------------------------------------------------------------------------\n",
    "\n",
    "    Аргументы:\n",
    "        L_X: массив всех возможных размеров решетки молекул по x\n",
    "        L_y: размер решетки молекул по y\n",
    "        kT: массив всех возможных параметров температуры \n",
    "    ------------------------------------------------------------------------------\n",
    "\n",
    "    Возвращаемое значение: None\n",
    "    '''\n",
    "    all_mean_energy = []\n",
    "    for l_x in tqdm(L_X): \n",
    "        time_kT = []   \n",
    "        t_lx = time()\n",
    "        mean_energy_list = []\n",
    "        for kt in kT:\n",
    "            t_kt = time()\n",
    "            mean_energy_list.append(IsingEnergy(l_x, L_y, kt))\n",
    "            time_kT.append(time() - t_kt)\n",
    "        \n",
    "        print(f\"Время для Lx = {l_x}: {time() - t_lx}\")\n",
    "        print(f\"Average time over kT: {np.average(np.asarray(time_kT))}\")\n",
    "        print(f\"Systems mean energy over kT: {mean_energy_list}\\n\")\n",
    "        print(\"---------------------------------------------------------------\")\n",
    "        all_mean_energy.append(mean_energy_list)\n",
    "        \n",
    "        np.save('all_mean_energy', np.asarray(all_mean_energy))"
   ]
  },
  {
   "cell_type": "code",
   "execution_count": 93,
   "id": "d9bd101d",
   "metadata": {
    "cellId": "j0mg389wl0p5jpo82lqbl7"
   },
   "outputs": [
    {
     "name": "stdout",
     "output_type": "stream",
     "text": [
      "Время для Lx = 2: 3.023745536804199\n",
      "Average time over kT: 0.07374689055652153\n",
      "Systems mean energy over kT: [-1.9950947414062468, -1.9896786188808073, -1.9807487753449695, -1.9673111716909788, -1.9485144458851344, -1.9237582779717866, -1.8927729123774133, -1.8556563932181038, -1.81286316047101, -1.7651476160907025, -1.7134756254766457, -1.65892227079009, -1.6025740536214284, -1.5454491047728742, -1.4884422379376243, -1.4322953738038868, -1.3775895005233505, -1.3247522964105898, -1.2740753769508302, -1.2257360871954106, -1.1798201525284402, -1.1363428622913487, -1.095267561798701, -1.0565210070828932, -1.0200056246987825, -0.9856089838958376, -0.9532109011612631, -0.922688616156588, -0.8939204459706636, -0.866788269418056, -0.8411791316946008, -0.8169862012229521, -0.7941092592314017, -0.772454859865174, -0.7519362642279938, -0.7324732247580709, -0.713991675568291, -0.6964233686384532, -0.6797054839730113, -0.6637802331319113, -0.648594469174492]\n",
      "\n",
      "---------------------------------------------------------------\n",
      "Время для Lx = 3: 0.08124303817749023\n",
      "Average time over kT: 0.001979746469637243\n",
      "Systems mean energy over kT: [-1.9971177867782803, -1.993836651273211, -1.9882527079366885, -1.9794935139968033, -1.966591816406461, -1.9485320622926614, -1.9243261818551172, -1.893122225794557, -1.8543358262384761, -1.8077790166252645, -1.7537511684939724, -1.6930598146321525, -1.626956730686715, -1.5570004316146342, -1.4848783649650434, -1.4122305917648743, -1.3405096342946254, -1.2708944279102548, -1.2042588152145968, -1.141183119160291, -1.0819927770773272, -1.0268091262443586, -0.9756013669455864, -0.9282331483928091, -0.8845008380763021, -0.8441629538975248, -0.8069615796068023, -0.7726371517257589, -0.740938103403712, -0.7116267070555139, -0.6844822204689923, -0.6593021925679878, -0.6359025640506598, -0.6141170181669473, -0.593795898283995, -0.5748049062173242, -0.5570237214939017, -0.5403446299385392, -0.5246712144524829, -0.5099171370094432, -0.49600502527142515]\n",
      "\n",
      "---------------------------------------------------------------\n",
      "Время для Lx = 4: 0.02739691734313965\n",
      "Average time over kT: 0.0006674440895638815\n",
      "Systems mean energy over kT: [-1.997158440255824, -1.9939609146950066, -1.9885663165883636, -1.980169648053922, -1.967863547965644, -1.9506425614594387, -1.9274244046995026, -1.897112148674809, -1.8587166673729592, -1.8115390711262238, -1.7553802887773726, -1.690713110358035, -1.6187428214318846, -1.5413114924550977, -1.4606597705451794, -1.3791164822593394, -1.298807589477061, -1.221454236412247, -1.1482846941665996, -1.0800446020764791, -1.0170696269551063, -0.9593839903578999, -0.9067983803783906, -0.8589929128014401, -0.8155802995955659, -0.7761500504348332, -0.7402970673438721, -0.7076385678373113, -0.677822874131176, -0.6505328648281172, -0.6254861297092836, -0.6024332333695963, -0.5811550113714876, -0.5614594793130852, -0.5431787017842017, -0.5261658152714065, -0.510292302264857, -0.4954455547062957, -0.4815267303932134, -0.4684488870514502, -0.4561353695428475]\n",
      "\n",
      "---------------------------------------------------------------\n",
      "Время для Lx = 5: 0.5853075981140137\n",
      "Average time over kT: 0.014272695634423233\n",
      "Systems mean energy over kT: [-1.9971589285773539, -1.993962962371999, -1.9885726336655811, -1.9801838708558965, -1.9678836321795672, -1.9506396381709687, -1.927296917980632, -1.8966112085173583, -1.8573563905360972, -1.8085313252783979, -1.749650243126378, -1.6810375182750996, -1.6039987782503617, -1.5207557683647075, -1.434127630981172, -1.3470633038300215, -1.2621930851246137, -1.1815336063197825, -1.1063887221642985, -1.0374074706810565, -0.9747264665852979, -0.9181319982077812, -0.8672025512766989, -0.8214164511115708, -0.7802244485255229, -0.7430938362912088, -0.7095321502112428, -0.6790974918099065, -0.6514007497221688, -0.626103322835895, -0.6029126413336394, -0.5815768632517585, -0.5618795213258453, -0.5436345193043876, -0.5266816535069055, -0.5108827089839508, -0.49611811260992483, -0.4822840935321836, -0.4692902894341152, -0.4570577358797621, -0.4455171801864784]\n",
      "\n",
      "---------------------------------------------------------------\n",
      "Время для Lx = 6: 8.821553945541382\n",
      "Average time over kT: 0.21515473505345786\n",
      "Systems mean energy over kT: [-1.9971585726429553, -1.9939611318947528, -1.988565101388545, -1.9801578078308624, -1.9678051882526628, -1.9504295611320377, -1.9267890920101085, -1.8954940589583849, -1.8551111978675192, -1.804403264608617, -1.7427030381423982, -1.6703253750553815, -1.5888272216574726, -1.5009286799615387, -1.410058069125784, -1.319692610369132, -1.23276666219821, -1.15134108029957, -1.0765613857310892, -1.0088111513443885, -0.9479398781480605, -0.8934792988763509, -0.8448093294950695, -0.801268202043416, -0.7622168686777724, -0.7270714438735653, -0.6953156413653888, -0.6665018437285019, -0.6402463974694524, -0.616222473334261, -0.5941523435842486, -0.5738000158593093, -0.554964636877593, -0.5374747924513479, -0.5211836850886077, -0.5059651050702787, -0.4917100884681282, -0.4783241549213021, -0.46572502724112164, -0.45384074777643396, -0.44260811990353777]\n",
      "\n",
      "---------------------------------------------------------------\n",
      "Время для Lx = 7: 153.84957909584045\n",
      "Average time over kT: 3.7524079753131403\n",
      "Systems mean energy over kT: [-1.9971581983690208, -1.9939591731311546, -1.9885569151782283, -1.9801291704599095, -1.9677186126622725, -1.9501983500025466, -1.9262354212646209, -1.8942939407470298, -1.8527444830150177, -1.8001485812439106, -1.7357288559318755, -1.6598996702572655, -1.5745893447321957, -1.4830893594008672, -1.3894040755169115, -1.2973870200482258, -1.210055756429901, -1.129304505752078, -1.055979091230416, -0.9901435441298017, -0.9313780068910367, -0.8790205754460468, -0.8323301551260351, -0.7905810695638011, -0.753109881392573, -0.719332951402168, -0.6887479790431716, -0.6609278202014988, -0.6355113185796515, -0.6121936304496336, -0.5907172096038864, -0.5708639045629849, -0.5524482592867244, -0.5353119390826964, -0.5193191410723105, -0.5043528343425354, -0.490311684493827, -0.4771075371968103, -0.46466335432325095, -0.452911516417098, -0.4417924210594731]\n",
      "\n",
      "---------------------------------------------------------------\n",
      "Время для Lx = 8: 2620.2301535606384\n",
      "Average time over kT: 63.90801763534546\n",
      "Systems mean energy over kT: [-1.9971578237468308, -1.9939572102268688, -1.9885486973741036, -1.9801003674672166, -1.9676313779065873, -1.9499651553375006, -1.9256773937077476, -1.8930883739841176, -1.850383701435286, -1.7959551999327554, -1.7289795727535575, -1.6500649760815937, -1.561598801102343, -1.4674609069233142, -1.3721346780275672, -1.2796628423104475, -1.1929476951737341, -1.113581516177189, -1.042066161704265, -0.9781767173738952, -0.9212952553179964, -0.8706476622280541, -0.8254447416137222, -0.784953623913565, -0.7485262519532532, -0.7156045923424047, -0.6857147709995103, -0.6584569112243809, -0.6334941409233139, -0.6105423262937808, -0.5893611050433908, -0.5697463405019385, -0.551523878959429, -0.5345444344729268, -0.5186794207202372, -0.5038175464169389, -0.4898620433090879, -0.4767283891531189, -0.4643424385453421, -0.45263888273469666, -0.4415599649130134]\n",
      "\n",
      "---------------------------------------------------------------\n"
     ]
    },
    {
     "name": "stderr",
     "output_type": "stream",
     "text": [
      "100%|██████████| 7/7 [46:26<00:00, 398.10s/it]\n"
     ]
    }
   ],
   "source": [
    "#!c1.32\n",
    "SystemCalculations(L_x, L_y, kT)"
   ]
  },
  {
   "cell_type": "code",
   "execution_count": 99,
   "id": "fd93f674",
   "metadata": {
    "cellId": "0oc4pr4pqcwkkshdcex4f2"
   },
   "outputs": [
    {
     "data": {
      "text/plain": [
       "array([[-1.99509474, -1.98967862, -1.98074878, -1.96731117, -1.94851445,\n",
       "        -1.92375828, -1.89277291, -1.85565639, -1.81286316, -1.76514762,\n",
       "        -1.71347563, -1.65892227, -1.60257405, -1.5454491 , -1.48844224,\n",
       "        -1.43229537, -1.3775895 , -1.3247523 , -1.27407538, -1.22573609,\n",
       "        -1.17982015, -1.13634286, -1.09526756, -1.05652101, -1.02000562,\n",
       "        -0.98560898, -0.9532109 , -0.92268862, -0.89392045, -0.86678827,\n",
       "        -0.84117913, -0.8169862 , -0.79410926, -0.77245486, -0.75193626,\n",
       "        -0.73247322, -0.71399168, -0.69642337, -0.67970548, -0.66378023,\n",
       "        -0.64859447],\n",
       "       [-1.99711779, -1.99383665, -1.98825271, -1.97949351, -1.96659182,\n",
       "        -1.94853206, -1.92432618, -1.89312223, -1.85433583, -1.80777902,\n",
       "        -1.75375117, -1.69305981, -1.62695673, -1.55700043, -1.48487836,\n",
       "        -1.41223059, -1.34050963, -1.27089443, -1.20425882, -1.14118312,\n",
       "        -1.08199278, -1.02680913, -0.97560137, -0.92823315, -0.88450084,\n",
       "        -0.84416295, -0.80696158, -0.77263715, -0.7409381 , -0.71162671,\n",
       "        -0.68448222, -0.65930219, -0.63590256, -0.61411702, -0.5937959 ,\n",
       "        -0.57480491, -0.55702372, -0.54034463, -0.52467121, -0.50991714,\n",
       "        -0.49600503],\n",
       "       [-1.99715844, -1.99396091, -1.98856632, -1.98016965, -1.96786355,\n",
       "        -1.95064256, -1.9274244 , -1.89711215, -1.85871667, -1.81153907,\n",
       "        -1.75538029, -1.69071311, -1.61874282, -1.54131149, -1.46065977,\n",
       "        -1.37911648, -1.29880759, -1.22145424, -1.14828469, -1.0800446 ,\n",
       "        -1.01706963, -0.95938399, -0.90679838, -0.85899291, -0.8155803 ,\n",
       "        -0.77615005, -0.74029707, -0.70763857, -0.67782287, -0.65053286,\n",
       "        -0.62548613, -0.60243323, -0.58115501, -0.56145948, -0.5431787 ,\n",
       "        -0.52616582, -0.5102923 , -0.49544555, -0.48152673, -0.46844889,\n",
       "        -0.45613537],\n",
       "       [-1.99715893, -1.99396296, -1.98857263, -1.98018387, -1.96788363,\n",
       "        -1.95063964, -1.92729692, -1.89661121, -1.85735639, -1.80853133,\n",
       "        -1.74965024, -1.68103752, -1.60399878, -1.52075577, -1.43412763,\n",
       "        -1.3470633 , -1.26219309, -1.18153361, -1.10638872, -1.03740747,\n",
       "        -0.97472647, -0.918132  , -0.86720255, -0.82141645, -0.78022445,\n",
       "        -0.74309384, -0.70953215, -0.67909749, -0.65140075, -0.62610332,\n",
       "        -0.60291264, -0.58157686, -0.56187952, -0.54363452, -0.52668165,\n",
       "        -0.51088271, -0.49611811, -0.48228409, -0.46929029, -0.45705774,\n",
       "        -0.44551718],\n",
       "       [-1.99715857, -1.99396113, -1.9885651 , -1.98015781, -1.96780519,\n",
       "        -1.95042956, -1.92678909, -1.89549406, -1.8551112 , -1.80440326,\n",
       "        -1.74270304, -1.67032538, -1.58882722, -1.50092868, -1.41005807,\n",
       "        -1.31969261, -1.23276666, -1.15134108, -1.07656139, -1.00881115,\n",
       "        -0.94793988, -0.8934793 , -0.84480933, -0.8012682 , -0.76221687,\n",
       "        -0.72707144, -0.69531564, -0.66650184, -0.6402464 , -0.61622247,\n",
       "        -0.59415234, -0.57380002, -0.55496464, -0.53747479, -0.52118369,\n",
       "        -0.50596511, -0.49171009, -0.47832415, -0.46572503, -0.45384075,\n",
       "        -0.44260812],\n",
       "       [-1.9971582 , -1.99395917, -1.98855692, -1.98012917, -1.96771861,\n",
       "        -1.95019835, -1.92623542, -1.89429394, -1.85274448, -1.80014858,\n",
       "        -1.73572886, -1.65989967, -1.57458934, -1.48308936, -1.38940408,\n",
       "        -1.29738702, -1.21005576, -1.12930451, -1.05597909, -0.99014354,\n",
       "        -0.93137801, -0.87902058, -0.83233016, -0.79058107, -0.75310988,\n",
       "        -0.71933295, -0.68874798, -0.66092782, -0.63551132, -0.61219363,\n",
       "        -0.59071721, -0.5708639 , -0.55244826, -0.53531194, -0.51931914,\n",
       "        -0.50435283, -0.49031168, -0.47710754, -0.46466335, -0.45291152,\n",
       "        -0.44179242],\n",
       "       [-1.99715782, -1.99395721, -1.9885487 , -1.98010037, -1.96763138,\n",
       "        -1.94996516, -1.92567739, -1.89308837, -1.8503837 , -1.7959552 ,\n",
       "        -1.72897957, -1.65006498, -1.5615988 , -1.46746091, -1.37213468,\n",
       "        -1.27966284, -1.1929477 , -1.11358152, -1.04206616, -0.97817672,\n",
       "        -0.92129526, -0.87064766, -0.82544474, -0.78495362, -0.74852625,\n",
       "        -0.71560459, -0.68571477, -0.65845691, -0.63349414, -0.61054233,\n",
       "        -0.58936111, -0.56974634, -0.55152388, -0.53454443, -0.51867942,\n",
       "        -0.50381755, -0.48986204, -0.47672839, -0.46434244, -0.45263888,\n",
       "        -0.44155996]])"
      ]
     },
     "execution_count": 99,
     "metadata": {},
     "output_type": "execute_result"
    }
   ],
   "source": [
    "#!c1.32\n",
    "system_Energy = np.load('all_mean_energy.npy')\n",
    "system_Energy"
   ]
  },
  {
   "cell_type": "code",
   "execution_count": 123,
   "id": "7189ef02",
   "metadata": {
    "cellId": "evkzr3fdwltvt6dr9t9icd"
   },
   "outputs": [
    {
     "data": {
      "text/plain": [
       "[Text(0.5, 33.0, 'Температура'),\n",
       " Text(114.0, 0.5, '$L_x$ размерность решетки'),\n",
       " Text(0.5, 1.0, 'Карта средних энергий системы молекул при заданных $L_x$ и kT')]"
      ]
     },
     "execution_count": 123,
     "metadata": {},
     "output_type": "execute_result"
    },
    {
     "data": {
      "image/png": "[encoded data removed]",
      "text/plain": [
       "<Figure size 1080x432 with 2 Axes>"
      ]
     },
     "metadata": {
      "needs_background": "light"
     },
     "output_type": "display_data"
    }
   ],
   "source": [
    "#!c1.32\n",
    "import matplotlib.pyplot as plt\n",
    "import seaborn as sns\n",
    "\n",
    "fig, ax = plt.subplots(figsize=(15,6))\n",
    "\n",
    "a = sns.heatmap(system_Energy, cmap=\"viridis\")\n",
    "\n",
    "a.set_yticklabels(L_x)\n",
    "a.set_xticklabels(np.round(kT, 1), rotation=270)\n",
    "a.invert_yaxis()\n",
    "a.set(xlabel='Температура', ylabel='$L_x$ размерность решетки', title='Карта средних энергий системы молекул при заданных $L_x$ и kT')"
   ]
  },
  {
   "cell_type": "markdown",
   "id": "20c68f90",
   "metadata": {
    "cellId": "bjs161g4mmdm9y8cibnz9",
    "execution_id": "6542fd3d-7e71-4c58-9bdb-3e3d32b4c8f1"
   },
   "source": [
    "Ну и обещанные функции"
   ]
  },
  {
   "cell_type": "code",
   "execution_count": null,
   "id": "6eac866a",
   "metadata": {
    "cellId": "fi65e9leki9kd4h5a7znsh"
   },
   "outputs": [],
   "source": [
    "#!c1.32\n",
    "@njit(parallel=True, fastmath=True)\n",
    "def Energy(spin, L_x, L_y, kT):\n",
    "    '''\n",
    "    Функция, которая считаем энергию системы при нулевом магнитном поле\n",
    "    ------------------------------------------------------------------------------\n",
    "\n",
    "    Аргументы:\n",
    "        spin: двумерный массив спинов для системы молекул \n",
    "        L_x: размер решетки молекул по x\n",
    "        L_y: размер решетки молекул по y\n",
    "        kT: параметр температуры \n",
    "    ------------------------------------------------------------------------------\n",
    "\n",
    "    Возвращаемое значение: \n",
    "        energy: энергия системы с заданной конфигурацией спинов \n",
    "    '''\n",
    "    energy = 0\n",
    "    for i in numba.prange(L_x):\n",
    "        for j in range(L_y):\n",
    "            energy += (-1) * spin[i, j] * (spin[(i + 1) % L_x, j] + spin[i, (j + 1) % L_y])\n",
    "    return energy"
   ]
  },
  {
   "cell_type": "code",
   "execution_count": null,
   "id": "484a5c6a",
   "metadata": {
    "cellId": "8p1vxqdkz5rrsioyaz1iv"
   },
   "outputs": [],
   "source": [
    "#!c1.32\n",
    "@njit(parallel=True, fastmath=True)\n",
    "def IsingEnergy(L_x, L_y, kT):\n",
    "    '''\n",
    "    Функция, которая рассчитывает среднюю энергию системы молекул на заданной\n",
    "    решетке размерами (L_x * L_y) и параметре температуры kT\n",
    "    ------------------------------------------------------------------------------\n",
    "\n",
    "    Аргументы:\n",
    "        L_x: размер решетки молекул по x\n",
    "        L_y: размер решетки молекул по y\n",
    "        kT: параметр температуры \n",
    "    ------------------------------------------------------------------------------\n",
    "\n",
    "    Возвращаемое значение: нормированная средняя энергия системы с заданными \n",
    "    параметрами \n",
    "    '''\n",
    "    \n",
    "    Z = 0.0\n",
    "    mean_energy = 0.0\n",
    "    \n",
    "    # массив для перебора всех конфигураций спинов\n",
    "    for i_ in numba.prange(2**(L_x * L_y)):\n",
    "        i = numba.int64(i_)\n",
    "        spin = np.empty(L_x * L_y, dtype=np.int8)\n",
    "        ## перебираем конфигурации спинов с помощью двоичного \n",
    "        ## представления чисел [1, 2^(L_x*L_y)]\n",
    "        for cell in range(L_x * L_y):\n",
    "            if i & 1 == 0: \n",
    "                spin[cell] = -1\n",
    "            else:\n",
    "                spin[cell] = 1\n",
    "            i = i >> 1\n",
    "        spin = spin.reshape(L_x, L_y)\n",
    "        energy = Energy(spin, L_x, L_y, kT)\n",
    "        # аккумулируем статсумму\n",
    "        Z += np.e ** ((-1) * energy / kT)\n",
    "        # аккумулируем среднюю энергию\n",
    "        mean_energy += energy * np.e ** ((-1) * energy / kT)\n",
    "    return (mean_energy / Z) * (1 / (L_x * L_y))"
   ]
  }
 ],
 "metadata": {
  "language_info": {
   "codemirror_mode": {
    "name": "ipython",
    "version": 3
   },
   "file_extension": ".py",
   "mimetype": "text/x-python",
   "name": "python",
   "nbconvert_exporter": "python",
   "pygments_lexer": "ipython3",
   "version": "3.7.7"
  },
  "notebookId": "e94c3eff-e796-468e-9bac-a1a6af20782f",
  "notebookPath": "ferromagnetic_energy_problem_2d_Lysov.ipynb"
 },
 "nbformat": 4,
 "nbformat_minor": 5
}
